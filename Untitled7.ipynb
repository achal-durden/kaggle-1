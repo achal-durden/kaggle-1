{
 "cells": [
  {
   "cell_type": "code",
   "execution_count": 130,
   "metadata": {},
   "outputs": [],
   "source": [
    "import pandas as pd\n",
    "import seaborn as sns\n",
    "import matplotlib.pyplot as plt\n",
    "import numpy as np\n",
    "from matplotlib import style\n",
    "from sklearn.model_selection import train_test_split\n",
    "from sklearn import preprocessing"
   ]
  },
  {
   "cell_type": "code",
   "execution_count": 131,
   "metadata": {},
   "outputs": [],
   "source": [
    "df = pd.read_csv(\"train.csv\")"
   ]
  },
  {
   "cell_type": "code",
   "execution_count": 132,
   "metadata": {},
   "outputs": [
    {
     "data": {
      "text/plain": [
       "Wifi Broadband         2794\n",
       "Satellite Broadband    2177\n",
       "No                     1367\n",
       "Name: 4GService, dtype: int64"
      ]
     },
     "execution_count": 132,
     "metadata": {},
     "output_type": "execute_result"
    }
   ],
   "source": [
    "df[\"4GService\"].value_counts()"
   ]
  },
  {
   "cell_type": "code",
   "execution_count": 133,
   "metadata": {},
   "outputs": [
    {
     "data": {
      "text/plain": [
       "Electronic    2134\n",
       "Check         1453\n",
       "Bank          1390\n",
       "Card          1361\n",
       "Name: SettlementProcess, dtype: int64"
      ]
     },
     "execution_count": 133,
     "metadata": {},
     "output_type": "execute_result"
    }
   ],
   "source": [
    "df[\"SettlementProcess\"].value_counts()"
   ]
  },
  {
   "cell_type": "code",
   "execution_count": 134,
   "metadata": {},
   "outputs": [],
   "source": [
    "pd.set_option(\"display.max_columns\", None)"
   ]
  },
  {
   "cell_type": "code",
   "execution_count": 135,
   "metadata": {
    "scrolled": false
   },
   "outputs": [
    {
     "data": {
      "text/html": [
       "<div>\n",
       "<style scoped>\n",
       "    .dataframe tbody tr th:only-of-type {\n",
       "        vertical-align: middle;\n",
       "    }\n",
       "\n",
       "    .dataframe tbody tr th {\n",
       "        vertical-align: top;\n",
       "    }\n",
       "\n",
       "    .dataframe thead th {\n",
       "        text-align: right;\n",
       "    }\n",
       "</style>\n",
       "<table border=\"1\" class=\"dataframe\">\n",
       "  <thead>\n",
       "    <tr style=\"text-align: right;\">\n",
       "      <th></th>\n",
       "      <th>ID</th>\n",
       "      <th>sex</th>\n",
       "      <th>Aged</th>\n",
       "      <th>Married</th>\n",
       "      <th>TotalDependents</th>\n",
       "      <th>ServiceSpan</th>\n",
       "      <th>MobileService</th>\n",
       "      <th>4GService</th>\n",
       "      <th>CyberProtection</th>\n",
       "      <th>HardwareSupport</th>\n",
       "      <th>TechnicalAssistance</th>\n",
       "      <th>FilmSubscription</th>\n",
       "      <th>SettlementProcess</th>\n",
       "      <th>QuarterlyPayment</th>\n",
       "      <th>GrandPayment</th>\n",
       "      <th>CustomerAttrition</th>\n",
       "    </tr>\n",
       "  </thead>\n",
       "  <tbody>\n",
       "    <tr>\n",
       "      <th>0</th>\n",
       "      <td>B60LHTZLLPFU4IULNPUF</td>\n",
       "      <td>Female</td>\n",
       "      <td>No</td>\n",
       "      <td>No</td>\n",
       "      <td>Yes</td>\n",
       "      <td>48</td>\n",
       "      <td>Yes</td>\n",
       "      <td>Wifi Broadband</td>\n",
       "      <td>No</td>\n",
       "      <td>Yes</td>\n",
       "      <td>Yes</td>\n",
       "      <td>No</td>\n",
       "      <td>Check</td>\n",
       "      <td>96.259802</td>\n",
       "      <td>4628.129119</td>\n",
       "      <td>Yes</td>\n",
       "    </tr>\n",
       "    <tr>\n",
       "      <th>1</th>\n",
       "      <td>1RUJ7ONYZHYTWKOKO1SD</td>\n",
       "      <td>Male</td>\n",
       "      <td>No</td>\n",
       "      <td>Yes</td>\n",
       "      <td>No</td>\n",
       "      <td>45</td>\n",
       "      <td>Yes</td>\n",
       "      <td>Wifi Broadband</td>\n",
       "      <td>No</td>\n",
       "      <td>No</td>\n",
       "      <td>No</td>\n",
       "      <td>Yes</td>\n",
       "      <td>Bank</td>\n",
       "      <td>18.876470</td>\n",
       "      <td>922.085998</td>\n",
       "      <td>No</td>\n",
       "    </tr>\n",
       "    <tr>\n",
       "      <th>2</th>\n",
       "      <td>DZ9EEOQWSN0MYCBUPAM5</td>\n",
       "      <td>Male</td>\n",
       "      <td>Yes</td>\n",
       "      <td>Yes</td>\n",
       "      <td>No</td>\n",
       "      <td>59</td>\n",
       "      <td>Yes</td>\n",
       "      <td>Wifi Broadband</td>\n",
       "      <td>Yes</td>\n",
       "      <td>No</td>\n",
       "      <td>Yes</td>\n",
       "      <td>No</td>\n",
       "      <td>Card</td>\n",
       "      <td>106.016057</td>\n",
       "      <td>6205.891129</td>\n",
       "      <td>Yes</td>\n",
       "    </tr>\n",
       "    <tr>\n",
       "      <th>3</th>\n",
       "      <td>YZ43L1UQUQACTL1PXXZG</td>\n",
       "      <td>Male</td>\n",
       "      <td>No</td>\n",
       "      <td>No</td>\n",
       "      <td>No</td>\n",
       "      <td>14</td>\n",
       "      <td>Yes</td>\n",
       "      <td>Wifi Broadband</td>\n",
       "      <td>No</td>\n",
       "      <td>No</td>\n",
       "      <td>No</td>\n",
       "      <td>No</td>\n",
       "      <td>Check</td>\n",
       "      <td>80.108839</td>\n",
       "      <td>1248.655391</td>\n",
       "      <td>No</td>\n",
       "    </tr>\n",
       "    <tr>\n",
       "      <th>4</th>\n",
       "      <td>6P28152QGF60PDLSCB9M</td>\n",
       "      <td>Female</td>\n",
       "      <td>No</td>\n",
       "      <td>Yes</td>\n",
       "      <td>Yes</td>\n",
       "      <td>25</td>\n",
       "      <td>Yes</td>\n",
       "      <td>Wifi Broadband</td>\n",
       "      <td>No</td>\n",
       "      <td>Yes</td>\n",
       "      <td>No</td>\n",
       "      <td>Yes</td>\n",
       "      <td>Check</td>\n",
       "      <td>51.529773</td>\n",
       "      <td>1285.321277</td>\n",
       "      <td>No</td>\n",
       "    </tr>\n",
       "  </tbody>\n",
       "</table>\n",
       "</div>"
      ],
      "text/plain": [
       "                     ID     sex Aged Married TotalDependents  ServiceSpan  \\\n",
       "0  B60LHTZLLPFU4IULNPUF  Female   No      No             Yes           48   \n",
       "1  1RUJ7ONYZHYTWKOKO1SD    Male   No     Yes              No           45   \n",
       "2  DZ9EEOQWSN0MYCBUPAM5    Male  Yes     Yes              No           59   \n",
       "3  YZ43L1UQUQACTL1PXXZG    Male   No      No              No           14   \n",
       "4  6P28152QGF60PDLSCB9M  Female   No     Yes             Yes           25   \n",
       "\n",
       "  MobileService       4GService CyberProtection HardwareSupport  \\\n",
       "0           Yes  Wifi Broadband              No             Yes   \n",
       "1           Yes  Wifi Broadband              No              No   \n",
       "2           Yes  Wifi Broadband             Yes              No   \n",
       "3           Yes  Wifi Broadband              No              No   \n",
       "4           Yes  Wifi Broadband              No             Yes   \n",
       "\n",
       "  TechnicalAssistance FilmSubscription SettlementProcess  QuarterlyPayment  \\\n",
       "0                 Yes               No             Check         96.259802   \n",
       "1                  No              Yes              Bank         18.876470   \n",
       "2                 Yes               No              Card        106.016057   \n",
       "3                  No               No             Check         80.108839   \n",
       "4                  No              Yes             Check         51.529773   \n",
       "\n",
       "   GrandPayment CustomerAttrition  \n",
       "0   4628.129119               Yes  \n",
       "1    922.085998                No  \n",
       "2   6205.891129               Yes  \n",
       "3   1248.655391                No  \n",
       "4   1285.321277                No  "
      ]
     },
     "execution_count": 135,
     "metadata": {},
     "output_type": "execute_result"
    }
   ],
   "source": [
    "df.head()"
   ]
  },
  {
   "cell_type": "code",
   "execution_count": 136,
   "metadata": {},
   "outputs": [
    {
     "data": {
      "text/html": [
       "<div>\n",
       "<style scoped>\n",
       "    .dataframe tbody tr th:only-of-type {\n",
       "        vertical-align: middle;\n",
       "    }\n",
       "\n",
       "    .dataframe tbody tr th {\n",
       "        vertical-align: top;\n",
       "    }\n",
       "\n",
       "    .dataframe thead th {\n",
       "        text-align: right;\n",
       "    }\n",
       "</style>\n",
       "<table border=\"1\" class=\"dataframe\">\n",
       "  <thead>\n",
       "    <tr style=\"text-align: right;\">\n",
       "      <th></th>\n",
       "      <th>ServiceSpan</th>\n",
       "      <th>QuarterlyPayment</th>\n",
       "      <th>GrandPayment</th>\n",
       "    </tr>\n",
       "  </thead>\n",
       "  <tbody>\n",
       "    <tr>\n",
       "      <th>count</th>\n",
       "      <td>6338.000000</td>\n",
       "      <td>6338.000000</td>\n",
       "      <td>6328.000000</td>\n",
       "    </tr>\n",
       "    <tr>\n",
       "      <th>mean</th>\n",
       "      <td>31.946040</td>\n",
       "      <td>64.814490</td>\n",
       "      <td>2290.544207</td>\n",
       "    </tr>\n",
       "    <tr>\n",
       "      <th>std</th>\n",
       "      <td>24.559659</td>\n",
       "      <td>30.191091</td>\n",
       "      <td>2265.181098</td>\n",
       "    </tr>\n",
       "    <tr>\n",
       "      <th>min</th>\n",
       "      <td>-2.000000</td>\n",
       "      <td>16.504109</td>\n",
       "      <td>16.297961</td>\n",
       "    </tr>\n",
       "    <tr>\n",
       "      <th>25%</th>\n",
       "      <td>8.000000</td>\n",
       "      <td>35.645524</td>\n",
       "      <td>401.849530</td>\n",
       "    </tr>\n",
       "    <tr>\n",
       "      <th>50%</th>\n",
       "      <td>29.000000</td>\n",
       "      <td>70.534085</td>\n",
       "      <td>1407.589119</td>\n",
       "    </tr>\n",
       "    <tr>\n",
       "      <th>75%</th>\n",
       "      <td>55.000000</td>\n",
       "      <td>90.058498</td>\n",
       "      <td>3823.855846</td>\n",
       "    </tr>\n",
       "    <tr>\n",
       "      <th>max</th>\n",
       "      <td>73.000000</td>\n",
       "      <td>120.159190</td>\n",
       "      <td>8685.848657</td>\n",
       "    </tr>\n",
       "  </tbody>\n",
       "</table>\n",
       "</div>"
      ],
      "text/plain": [
       "       ServiceSpan  QuarterlyPayment  GrandPayment\n",
       "count  6338.000000       6338.000000   6328.000000\n",
       "mean     31.946040         64.814490   2290.544207\n",
       "std      24.559659         30.191091   2265.181098\n",
       "min      -2.000000         16.504109     16.297961\n",
       "25%       8.000000         35.645524    401.849530\n",
       "50%      29.000000         70.534085   1407.589119\n",
       "75%      55.000000         90.058498   3823.855846\n",
       "max      73.000000        120.159190   8685.848657"
      ]
     },
     "execution_count": 136,
     "metadata": {},
     "output_type": "execute_result"
    }
   ],
   "source": [
    "df.describe()"
   ]
  },
  {
   "cell_type": "code",
   "execution_count": 137,
   "metadata": {
    "scrolled": false
   },
   "outputs": [
    {
     "data": {
      "text/plain": [
       "ID                      0\n",
       "sex                     0\n",
       "Aged                    0\n",
       "Married                 0\n",
       "TotalDependents         0\n",
       "ServiceSpan             0\n",
       "MobileService           0\n",
       "4GService               0\n",
       "CyberProtection         0\n",
       "HardwareSupport         0\n",
       "TechnicalAssistance     0\n",
       "FilmSubscription        0\n",
       "SettlementProcess       0\n",
       "QuarterlyPayment        0\n",
       "GrandPayment           10\n",
       "CustomerAttrition       0\n",
       "dtype: int64"
      ]
     },
     "execution_count": 137,
     "metadata": {},
     "output_type": "execute_result"
    }
   ],
   "source": [
    "df.isnull().sum()"
   ]
  },
  {
   "cell_type": "code",
   "execution_count": 138,
   "metadata": {},
   "outputs": [
    {
     "data": {
      "text/plain": [
       "<matplotlib.axes._subplots.AxesSubplot at 0x276951ff308>"
      ]
     },
     "execution_count": 138,
     "metadata": {},
     "output_type": "execute_result"
    },
    {
     "data": {
      "image/png": "[encoded data removed]",
      "text/plain": [
       "<Figure size 432x288 with 1 Axes>"
      ]
     },
     "metadata": {
      "needs_background": "light"
     },
     "output_type": "display_data"
    }
   ],
   "source": [
    "sns.distplot(df[\"GrandPayment\"])"
   ]
  },
  {
   "cell_type": "code",
   "execution_count": 139,
   "metadata": {},
   "outputs": [],
   "source": [
    "df[\"GrandPayment\"].fillna(df[\"GrandPayment\"].median(),inplace = True)"
   ]
  },
  {
   "cell_type": "code",
   "execution_count": 140,
   "metadata": {},
   "outputs": [
    {
     "data": {
      "text/plain": [
       "ID                     0\n",
       "sex                    0\n",
       "Aged                   0\n",
       "Married                0\n",
       "TotalDependents        0\n",
       "ServiceSpan            0\n",
       "MobileService          0\n",
       "4GService              0\n",
       "CyberProtection        0\n",
       "HardwareSupport        0\n",
       "TechnicalAssistance    0\n",
       "FilmSubscription       0\n",
       "SettlementProcess      0\n",
       "QuarterlyPayment       0\n",
       "GrandPayment           0\n",
       "CustomerAttrition      0\n",
       "dtype: int64"
      ]
     },
     "execution_count": 140,
     "metadata": {},
     "output_type": "execute_result"
    }
   ],
   "source": [
    "df.isnull().sum()"
   ]
  },
  {
   "cell_type": "code",
   "execution_count": 141,
   "metadata": {},
   "outputs": [
    {
     "data": {
      "text/plain": [
       "<matplotlib.axes._subplots.AxesSubplot at 0x27695102548>"
      ]
     },
     "execution_count": 141,
     "metadata": {},
     "output_type": "execute_result"
    },
    {
     "data": {
      "image/png": "[encoded data removed]",
      "text/plain": [
       "<Figure size 432x288 with 2 Axes>"
      ]
     },
     "metadata": {
      "needs_background": "light"
     },
     "output_type": "display_data"
    }
   ],
   "source": [
    "sns.heatmap(df.isnull())"
   ]
  },
  {
   "cell_type": "code",
   "execution_count": 142,
   "metadata": {},
   "outputs": [
    {
     "data": {
      "text/plain": [
       "<matplotlib.axes._subplots.AxesSubplot at 0x27694f6f1c8>"
      ]
     },
     "execution_count": 142,
     "metadata": {},
     "output_type": "execute_result"
    },
    {
     "data": {
      "image/png": "[encoded data removed]",
      "text/plain": [
       "<Figure size 432x288 with 1 Axes>"
      ]
     },
     "metadata": {
      "needs_background": "light"
     },
     "output_type": "display_data"
    }
   ],
   "source": [
    "sns.lineplot(x = df[\"ServiceSpan\"],y = df[\"QuarterlyPayment\"],hue = df[\"CustomerAttrition\"])"
   ]
  },
  {
   "cell_type": "code",
   "execution_count": 143,
   "metadata": {},
   "outputs": [
    {
     "data": {
      "text/plain": [
       "<matplotlib.axes._subplots.AxesSubplot at 0x276957be688>"
      ]
     },
     "execution_count": 143,
     "metadata": {},
     "output_type": "execute_result"
    },
    {
     "data": {
      "image/png": "[encoded data removed]",
      "text/plain": [
       "<Figure size 432x288 with 1 Axes>"
      ]
     },
     "metadata": {
      "needs_background": "light"
     },
     "output_type": "display_data"
    }
   ],
   "source": [
    "sns.lineplot(x = df[\"ServiceSpan\"],y = df[\"GrandPayment\"],hue = df[\"CustomerAttrition\"])"
   ]
  },
  {
   "cell_type": "code",
   "execution_count": 144,
   "metadata": {},
   "outputs": [
    {
     "data": {
      "text/plain": [
       "<matplotlib.axes._subplots.AxesSubplot at 0x2769588fd48>"
      ]
     },
     "execution_count": 144,
     "metadata": {},
     "output_type": "execute_result"
    },
    {
     "data": {
      "image/png": "[encoded data removed]",
      "text/plain": [
       "<Figure size 432x288 with 1 Axes>"
      ]
     },
     "metadata": {
      "needs_background": "light"
     },
     "output_type": "display_data"
    }
   ],
   "source": [
    "sns.distplot(df[\"GrandPayment\"],hist = False, bins = 1000,rug = True)"
   ]
  },
  {
   "cell_type": "code",
   "execution_count": 145,
   "metadata": {},
   "outputs": [
    {
     "data": {
      "text/plain": [
       "<matplotlib.axes._subplots.AxesSubplot at 0x276958746c8>"
      ]
     },
     "execution_count": 145,
     "metadata": {},
     "output_type": "execute_result"
    },
    {
     "data": {
      "image/png": "[encoded data removed]",
      "text/plain": [
       "<Figure size 432x288 with 1 Axes>"
      ]
     },
     "metadata": {
      "needs_background": "light"
     },
     "output_type": "display_data"
    }
   ],
   "source": [
    "sns.distplot(df[\"QuarterlyPayment\"],hist = False,rug = True,color = \"k\")"
   ]
  },
  {
   "cell_type": "code",
   "execution_count": 146,
   "metadata": {},
   "outputs": [
    {
     "data": {
      "text/plain": [
       "Male      2417\n",
       "Female    2241\n",
       "Name: sex, dtype: int64"
      ]
     },
     "execution_count": 146,
     "metadata": {},
     "output_type": "execute_result"
    }
   ],
   "source": [
    "b = df[df.loc[:,\"CustomerAttrition\"]==\"No\"][\"sex\"].value_counts()\n",
    "b"
   ]
  },
  {
   "cell_type": "code",
   "execution_count": 147,
   "metadata": {},
   "outputs": [
    {
     "data": {
      "text/plain": [
       "Female    884\n",
       "Male      796\n",
       "Name: sex, dtype: int64"
      ]
     },
     "execution_count": 147,
     "metadata": {},
     "output_type": "execute_result"
    }
   ],
   "source": [
    "a = df[df.loc[:,\"CustomerAttrition\"]==\"Yes\"][\"sex\"].value_counts()\n",
    "a"
   ]
  },
  {
   "cell_type": "code",
   "execution_count": 148,
   "metadata": {},
   "outputs": [
    {
     "data": {
      "text/plain": [
       "<matplotlib.legend.Legend at 0x2769382e5c8>"
      ]
     },
     "execution_count": 148,
     "metadata": {},
     "output_type": "execute_result"
    },
    {
     "data": {
      "image/png": "[encoded data removed]",
      "text/plain": [
       "<Figure size 576x288 with 1 Axes>"
      ]
     },
     "metadata": {
      "needs_background": "light"
     },
     "output_type": "display_data"
    }
   ],
   "source": [
    "plt.figure(figsize = (8,4))\n",
    "wid = 0.4\n",
    "plt.bar([\"Female\",\"Male\"],a,align = \"edge\",width = wid,color = \"k\",label = \"Yes\")\n",
    "plt.bar([\"Female\",\"Male\"],b,width = wid , color = \"y\", label = \"No\")\n",
    "plt.legend()"
   ]
  },
  {
   "cell_type": "code",
   "execution_count": 149,
   "metadata": {},
   "outputs": [
    {
     "data": {
      "text/plain": [
       "No     4432\n",
       "Yes    1906\n",
       "Name: TotalDependents, dtype: int64"
      ]
     },
     "execution_count": 149,
     "metadata": {},
     "output_type": "execute_result"
    }
   ],
   "source": [
    "df[\"TotalDependents\"].value_counts()"
   ]
  },
  {
   "cell_type": "code",
   "execution_count": 150,
   "metadata": {},
   "outputs": [
    {
     "data": {
      "image/png": "[encoded data removed]",
      "text/plain": [
       "<Figure size 432x288 with 1 Axes>"
      ]
     },
     "metadata": {
      "needs_background": "light"
     },
     "output_type": "display_data"
    },
    {
     "data": {
      "image/png": "[encoded data removed]",
      "text/plain": [
       "<Figure size 432x288 with 1 Axes>"
      ]
     },
     "metadata": {
      "needs_background": "light"
     },
     "output_type": "display_data"
    },
    {
     "data": {
      "image/png": "[encoded data removed]",
      "text/plain": [
       "<Figure size 432x288 with 1 Axes>"
      ]
     },
     "metadata": {
      "needs_background": "light"
     },
     "output_type": "display_data"
    },
    {
     "data": {
      "image/png": "[encoded data removed]",
      "text/plain": [
       "<Figure size 432x288 with 1 Axes>"
      ]
     },
     "metadata": {
      "needs_background": "light"
     },
     "output_type": "display_data"
    },
    {
     "data": {
      "image/png": "[encoded data removed]",
      "text/plain": [
       "<Figure size 432x288 with 1 Axes>"
      ]
     },
     "metadata": {
      "needs_background": "light"
     },
     "output_type": "display_data"
    },
    {
     "data": {
      "image/png": "[encoded data removed]",
      "text/plain": [
       "<Figure size 432x288 with 1 Axes>"
      ]
     },
     "metadata": {
      "needs_background": "light"
     },
     "output_type": "display_data"
    }
   ],
   "source": [
    "feature = [\"Aged\",\"Married\",\"TotalDependents\",\"CyberProtection\",\"HardwareSupport\",\"FilmSubscription\"]\n",
    "for f in feature:\n",
    "#     print(f)\n",
    "     plt.title(f)\n",
    "     plt.bar([\"No\",\"Yes\"],df[df.loc[:,\"CustomerAttrition\"]==\"Yes\"][f].value_counts(),color= \"red\",width = 0.4, label= \"CustomerAttrition:Yes\")\n",
    "     plt.ylabel(\"No. of people\")\n",
    "     plt.bar([\"No\",\"Yes\"],df[df.loc[:,\"CustomerAttrition\"]==\"No\"][f].value_counts(),align = \"edge\",color= \"blue\", width = 0.2,label = \"CustomerAttrition:No\")\n",
    "     plt.legend()\n",
    "     plt.show()\n",
    "             "
   ]
  },
  {
   "cell_type": "code",
   "execution_count": 151,
   "metadata": {},
   "outputs": [
    {
     "data": {
      "text/html": [
       "<div>\n",
       "<style scoped>\n",
       "    .dataframe tbody tr th:only-of-type {\n",
       "        vertical-align: middle;\n",
       "    }\n",
       "\n",
       "    .dataframe tbody tr th {\n",
       "        vertical-align: top;\n",
       "    }\n",
       "\n",
       "    .dataframe thead th {\n",
       "        text-align: right;\n",
       "    }\n",
       "</style>\n",
       "<table border=\"1\" class=\"dataframe\">\n",
       "  <thead>\n",
       "    <tr style=\"text-align: right;\">\n",
       "      <th></th>\n",
       "      <th>sex_Male</th>\n",
       "      <th>Aged_Yes</th>\n",
       "      <th>Married_Yes</th>\n",
       "      <th>TotalDependents_Yes</th>\n",
       "      <th>MobileService_Yes</th>\n",
       "      <th>CyberProtection_Yes</th>\n",
       "      <th>HardwareSupport_Yes</th>\n",
       "      <th>TechnicalAssistance_Yes</th>\n",
       "      <th>FilmSubscription_Yes</th>\n",
       "      <th>4GService_Satellite Broadband</th>\n",
       "      <th>4GService_Wifi Broadband</th>\n",
       "      <th>SettlementProcess_Card</th>\n",
       "      <th>SettlementProcess_Check</th>\n",
       "      <th>SettlementProcess_Electronic</th>\n",
       "    </tr>\n",
       "  </thead>\n",
       "  <tbody>\n",
       "    <tr>\n",
       "      <th>0</th>\n",
       "      <td>0</td>\n",
       "      <td>0</td>\n",
       "      <td>0</td>\n",
       "      <td>1</td>\n",
       "      <td>1</td>\n",
       "      <td>0</td>\n",
       "      <td>1</td>\n",
       "      <td>1</td>\n",
       "      <td>0</td>\n",
       "      <td>0</td>\n",
       "      <td>1</td>\n",
       "      <td>0</td>\n",
       "      <td>1</td>\n",
       "      <td>0</td>\n",
       "    </tr>\n",
       "    <tr>\n",
       "      <th>1</th>\n",
       "      <td>1</td>\n",
       "      <td>0</td>\n",
       "      <td>1</td>\n",
       "      <td>0</td>\n",
       "      <td>1</td>\n",
       "      <td>0</td>\n",
       "      <td>0</td>\n",
       "      <td>0</td>\n",
       "      <td>1</td>\n",
       "      <td>0</td>\n",
       "      <td>1</td>\n",
       "      <td>0</td>\n",
       "      <td>0</td>\n",
       "      <td>0</td>\n",
       "    </tr>\n",
       "    <tr>\n",
       "      <th>2</th>\n",
       "      <td>1</td>\n",
       "      <td>1</td>\n",
       "      <td>1</td>\n",
       "      <td>0</td>\n",
       "      <td>1</td>\n",
       "      <td>1</td>\n",
       "      <td>0</td>\n",
       "      <td>1</td>\n",
       "      <td>0</td>\n",
       "      <td>0</td>\n",
       "      <td>1</td>\n",
       "      <td>1</td>\n",
       "      <td>0</td>\n",
       "      <td>0</td>\n",
       "    </tr>\n",
       "    <tr>\n",
       "      <th>3</th>\n",
       "      <td>1</td>\n",
       "      <td>0</td>\n",
       "      <td>0</td>\n",
       "      <td>0</td>\n",
       "      <td>1</td>\n",
       "      <td>0</td>\n",
       "      <td>0</td>\n",
       "      <td>0</td>\n",
       "      <td>0</td>\n",
       "      <td>0</td>\n",
       "      <td>1</td>\n",
       "      <td>0</td>\n",
       "      <td>1</td>\n",
       "      <td>0</td>\n",
       "    </tr>\n",
       "    <tr>\n",
       "      <th>4</th>\n",
       "      <td>0</td>\n",
       "      <td>0</td>\n",
       "      <td>1</td>\n",
       "      <td>1</td>\n",
       "      <td>1</td>\n",
       "      <td>0</td>\n",
       "      <td>1</td>\n",
       "      <td>0</td>\n",
       "      <td>1</td>\n",
       "      <td>0</td>\n",
       "      <td>1</td>\n",
       "      <td>0</td>\n",
       "      <td>1</td>\n",
       "      <td>0</td>\n",
       "    </tr>\n",
       "  </tbody>\n",
       "</table>\n",
       "</div>"
      ],
      "text/plain": [
       "   sex_Male  Aged_Yes  Married_Yes  TotalDependents_Yes  MobileService_Yes  \\\n",
       "0         0         0            0                    1                  1   \n",
       "1         1         0            1                    0                  1   \n",
       "2         1         1            1                    0                  1   \n",
       "3         1         0            0                    0                  1   \n",
       "4         0         0            1                    1                  1   \n",
       "\n",
       "   CyberProtection_Yes  HardwareSupport_Yes  TechnicalAssistance_Yes  \\\n",
       "0                    0                    1                        1   \n",
       "1                    0                    0                        0   \n",
       "2                    1                    0                        1   \n",
       "3                    0                    0                        0   \n",
       "4                    0                    1                        0   \n",
       "\n",
       "   FilmSubscription_Yes  4GService_Satellite Broadband  \\\n",
       "0                     0                              0   \n",
       "1                     1                              0   \n",
       "2                     0                              0   \n",
       "3                     0                              0   \n",
       "4                     1                              0   \n",
       "\n",
       "   4GService_Wifi Broadband  SettlementProcess_Card  SettlementProcess_Check  \\\n",
       "0                         1                       0                        1   \n",
       "1                         1                       0                        0   \n",
       "2                         1                       1                        0   \n",
       "3                         1                       0                        1   \n",
       "4                         1                       0                        1   \n",
       "\n",
       "   SettlementProcess_Electronic  \n",
       "0                             0  \n",
       "1                             0  \n",
       "2                             0  \n",
       "3                             0  \n",
       "4                             0  "
      ]
     },
     "execution_count": 151,
     "metadata": {},
     "output_type": "execute_result"
    }
   ],
   "source": [
    "df_dummies = pd.get_dummies(df[[\"sex\",\"Aged\",\"Married\",\"TotalDependents\",\"MobileService\",\"CyberProtection\",\"HardwareSupport\",\"TechnicalAssistance\",\"FilmSubscription\",\"4GService\",\"SettlementProcess\"]],drop_first = True)\n",
    "df_dummies.head()"
   ]
  },
  {
   "cell_type": "code",
   "execution_count": 152,
   "metadata": {},
   "outputs": [
    {
     "data": {
      "text/plain": [
       "Wifi Broadband         2794\n",
       "Satellite Broadband    2177\n",
       "No                     1367\n",
       "Name: 4GService, dtype: int64"
      ]
     },
     "execution_count": 152,
     "metadata": {},
     "output_type": "execute_result"
    }
   ],
   "source": [
    "df[\"4GService\"].value_counts()"
   ]
  },
  {
   "cell_type": "code",
   "execution_count": 153,
   "metadata": {},
   "outputs": [
    {
     "data": {
      "text/plain": [
       "Electronic    2134\n",
       "Check         1453\n",
       "Bank          1390\n",
       "Card          1361\n",
       "Name: SettlementProcess, dtype: int64"
      ]
     },
     "execution_count": 153,
     "metadata": {},
     "output_type": "execute_result"
    }
   ],
   "source": [
    "df[\"SettlementProcess\"].value_counts()"
   ]
  },
  {
   "cell_type": "code",
   "execution_count": 155,
   "metadata": {},
   "outputs": [],
   "source": [
    "pd.set_option(\"display.max_rows\",None)"
   ]
  },
  {
   "cell_type": "code",
   "execution_count": 156,
   "metadata": {},
   "outputs": [
    {
     "data": {
      "text/plain": [
       "No     1258\n",
       "Yes     422\n",
       "Name: Aged, dtype: int64"
      ]
     },
     "execution_count": 156,
     "metadata": {},
     "output_type": "execute_result"
    }
   ],
   "source": [
    "aged_count = df[df.loc[:,\"CustomerAttrition\"]==\"Yes\"][\"Aged\"].value_counts()\n",
    "aged_count"
   ]
  },
  {
   "cell_type": "code",
   "execution_count": 157,
   "metadata": {},
   "outputs": [
    {
     "data": {
      "text/plain": [
       "Male      2417\n",
       "Female    2241\n",
       "Name: sex, dtype: int64"
      ]
     },
     "execution_count": 157,
     "metadata": {},
     "output_type": "execute_result"
    }
   ],
   "source": [
    "aged_count_no = df[df.loc[:,\"CustomerAttrition\"]==\"No\"][\"sex\"].value_counts()\n",
    "aged_count_no "
   ]
  },
  {
   "cell_type": "code",
   "execution_count": 158,
   "metadata": {
    "scrolled": true
   },
   "outputs": [
    {
     "data": {
      "text/plain": [
       "Wifi Broadband         738\n",
       "Satellite Broadband    580\n",
       "No                     362\n",
       "Name: 4GService, dtype: int64"
      ]
     },
     "execution_count": 158,
     "metadata": {},
     "output_type": "execute_result"
    }
   ],
   "source": [
    "df[df.loc[:,\"CustomerAttrition\"]== \"Yes\"][\"4GService\"].value_counts()"
   ]
  },
  {
   "cell_type": "code",
   "execution_count": 159,
   "metadata": {
    "scrolled": false
   },
   "outputs": [
    {
     "data": {
      "text/plain": [
       "<matplotlib.axes._subplots.AxesSubplot at 0x276960d4ec8>"
      ]
     },
     "execution_count": 159,
     "metadata": {},
     "output_type": "execute_result"
    },
    {
     "data": {
      "image/png": "[encoded data removed]",
      "text/plain": [
       "<Figure size 432x288 with 1 Axes>"
      ]
     },
     "metadata": {
      "needs_background": "light"
     },
     "output_type": "display_data"
    }
   ],
   "source": [
    "sns.distplot(df[\"QuarterlyPayment\"])"
   ]
  },
  {
   "cell_type": "code",
   "execution_count": 160,
   "metadata": {},
   "outputs": [
    {
     "data": {
      "text/plain": [
       "<Figure size 1800x1800 with 0 Axes>"
      ]
     },
     "execution_count": 160,
     "metadata": {},
     "output_type": "execute_result"
    },
    {
     "data": {
      "image/png": "[encoded data removed]",
      "text/plain": [
       "<Figure size 432x288 with 1 Axes>"
      ]
     },
     "metadata": {
      "needs_background": "light"
     },
     "output_type": "display_data"
    },
    {
     "data": {
      "text/plain": [
       "<Figure size 1800x1800 with 0 Axes>"
      ]
     },
     "metadata": {},
     "output_type": "display_data"
    }
   ],
   "source": [
    "sns.distplot(df[\"GrandPayment\"],kde = True,bins =20)\n",
    "plt.figure(figsize = (25,25))"
   ]
  },
  {
   "cell_type": "code",
   "execution_count": 161,
   "metadata": {},
   "outputs": [],
   "source": [
    "pd.set_option(\"display.max_columns\",None)\n",
    "pd.set_option(\"display.max_rows\",None)\n",
    "df[\"GrandPayment\"]\n",
    "df[\"GrandPayment\"].fillna(df[\"GrandPayment\"].median(),inplace = True)"
   ]
  },
  {
   "cell_type": "code",
   "execution_count": 162,
   "metadata": {},
   "outputs": [
    {
     "data": {
      "text/plain": [
       "<matplotlib.axes._subplots.AxesSubplot at 0x276961ba988>"
      ]
     },
     "execution_count": 162,
     "metadata": {},
     "output_type": "execute_result"
    },
    {
     "data": {
      "image/png": "[encoded data removed]",
      "text/plain": [
       "<Figure size 432x288 with 2 Axes>"
      ]
     },
     "metadata": {
      "needs_background": "light"
     },
     "output_type": "display_data"
    }
   ],
   "source": [
    "sns.heatmap(df.isnull())"
   ]
  },
  {
   "cell_type": "code",
   "execution_count": 163,
   "metadata": {},
   "outputs": [
    {
     "data": {
      "text/plain": [
       "Index(['ID', 'sex', 'Aged', 'Married', 'TotalDependents', 'MobileService',\n",
       "       '4GService', 'CyberProtection', 'HardwareSupport',\n",
       "       'TechnicalAssistance', 'FilmSubscription', 'SettlementProcess',\n",
       "       'CustomerAttrition'],\n",
       "      dtype='object')"
      ]
     },
     "execution_count": 163,
     "metadata": {},
     "output_type": "execute_result"
    }
   ],
   "source": [
    "df_object = df.select_dtypes(include = [\"object\"]).columns\n",
    "df_object "
   ]
  },
  {
   "cell_type": "code",
   "execution_count": 164,
   "metadata": {},
   "outputs": [],
   "source": [
    "df.drop([\"sex\",\"Aged\",\"Married\",\"TotalDependents\",\"MobileService\",\"CyberProtection\",\"HardwareSupport\",\"TechnicalAssistance\",\"FilmSubscription\",\"4GService\",\"SettlementProcess\"],axis= 1,inplace = True )"
   ]
  },
  {
   "cell_type": "code",
   "execution_count": 165,
   "metadata": {},
   "outputs": [
    {
     "data": {
      "text/plain": [
       "Index(['ID', 'ServiceSpan', 'QuarterlyPayment', 'GrandPayment',\n",
       "       'CustomerAttrition', 'sex_Male', 'Aged_Yes', 'Married_Yes',\n",
       "       'TotalDependents_Yes', 'MobileService_Yes', 'CyberProtection_Yes',\n",
       "       'HardwareSupport_Yes', 'TechnicalAssistance_Yes',\n",
       "       'FilmSubscription_Yes', '4GService_Satellite Broadband',\n",
       "       '4GService_Wifi Broadband', 'SettlementProcess_Card',\n",
       "       'SettlementProcess_Check', 'SettlementProcess_Electronic'],\n",
       "      dtype='object')"
      ]
     },
     "execution_count": 165,
     "metadata": {},
     "output_type": "execute_result"
    }
   ],
   "source": [
    "merged = pd.concat([df,df_dummies],axis = \"columns\")\n",
    "merged.keys()"
   ]
  },
  {
   "cell_type": "code",
   "execution_count": 166,
   "metadata": {},
   "outputs": [],
   "source": [
    "merged.set_index(\"ID\",inplace = True)"
   ]
  },
  {
   "cell_type": "code",
   "execution_count": 167,
   "metadata": {
    "scrolled": true
   },
   "outputs": [
    {
     "data": {
      "text/html": [
       "<div>\n",
       "<style scoped>\n",
       "    .dataframe tbody tr th:only-of-type {\n",
       "        vertical-align: middle;\n",
       "    }\n",
       "\n",
       "    .dataframe tbody tr th {\n",
       "        vertical-align: top;\n",
       "    }\n",
       "\n",
       "    .dataframe thead th {\n",
       "        text-align: right;\n",
       "    }\n",
       "</style>\n",
       "<table border=\"1\" class=\"dataframe\">\n",
       "  <thead>\n",
       "    <tr style=\"text-align: right;\">\n",
       "      <th></th>\n",
       "      <th>ServiceSpan</th>\n",
       "      <th>QuarterlyPayment</th>\n",
       "      <th>GrandPayment</th>\n",
       "      <th>CustomerAttrition</th>\n",
       "      <th>sex_Male</th>\n",
       "      <th>Aged_Yes</th>\n",
       "      <th>Married_Yes</th>\n",
       "      <th>TotalDependents_Yes</th>\n",
       "      <th>MobileService_Yes</th>\n",
       "      <th>CyberProtection_Yes</th>\n",
       "      <th>HardwareSupport_Yes</th>\n",
       "      <th>TechnicalAssistance_Yes</th>\n",
       "      <th>FilmSubscription_Yes</th>\n",
       "      <th>4GService_Satellite Broadband</th>\n",
       "      <th>4GService_Wifi Broadband</th>\n",
       "      <th>SettlementProcess_Card</th>\n",
       "      <th>SettlementProcess_Check</th>\n",
       "      <th>SettlementProcess_Electronic</th>\n",
       "    </tr>\n",
       "    <tr>\n",
       "      <th>ID</th>\n",
       "      <th></th>\n",
       "      <th></th>\n",
       "      <th></th>\n",
       "      <th></th>\n",
       "      <th></th>\n",
       "      <th></th>\n",
       "      <th></th>\n",
       "      <th></th>\n",
       "      <th></th>\n",
       "      <th></th>\n",
       "      <th></th>\n",
       "      <th></th>\n",
       "      <th></th>\n",
       "      <th></th>\n",
       "      <th></th>\n",
       "      <th></th>\n",
       "      <th></th>\n",
       "      <th></th>\n",
       "    </tr>\n",
       "  </thead>\n",
       "  <tbody>\n",
       "    <tr>\n",
       "      <th>B60LHTZLLPFU4IULNPUF</th>\n",
       "      <td>48</td>\n",
       "      <td>96.259802</td>\n",
       "      <td>4628.129119</td>\n",
       "      <td>Yes</td>\n",
       "      <td>0</td>\n",
       "      <td>0</td>\n",
       "      <td>0</td>\n",
       "      <td>1</td>\n",
       "      <td>1</td>\n",
       "      <td>0</td>\n",
       "      <td>1</td>\n",
       "      <td>1</td>\n",
       "      <td>0</td>\n",
       "      <td>0</td>\n",
       "      <td>1</td>\n",
       "      <td>0</td>\n",
       "      <td>1</td>\n",
       "      <td>0</td>\n",
       "    </tr>\n",
       "    <tr>\n",
       "      <th>1RUJ7ONYZHYTWKOKO1SD</th>\n",
       "      <td>45</td>\n",
       "      <td>18.876470</td>\n",
       "      <td>922.085998</td>\n",
       "      <td>No</td>\n",
       "      <td>1</td>\n",
       "      <td>0</td>\n",
       "      <td>1</td>\n",
       "      <td>0</td>\n",
       "      <td>1</td>\n",
       "      <td>0</td>\n",
       "      <td>0</td>\n",
       "      <td>0</td>\n",
       "      <td>1</td>\n",
       "      <td>0</td>\n",
       "      <td>1</td>\n",
       "      <td>0</td>\n",
       "      <td>0</td>\n",
       "      <td>0</td>\n",
       "    </tr>\n",
       "    <tr>\n",
       "      <th>DZ9EEOQWSN0MYCBUPAM5</th>\n",
       "      <td>59</td>\n",
       "      <td>106.016057</td>\n",
       "      <td>6205.891129</td>\n",
       "      <td>Yes</td>\n",
       "      <td>1</td>\n",
       "      <td>1</td>\n",
       "      <td>1</td>\n",
       "      <td>0</td>\n",
       "      <td>1</td>\n",
       "      <td>1</td>\n",
       "      <td>0</td>\n",
       "      <td>1</td>\n",
       "      <td>0</td>\n",
       "      <td>0</td>\n",
       "      <td>1</td>\n",
       "      <td>1</td>\n",
       "      <td>0</td>\n",
       "      <td>0</td>\n",
       "    </tr>\n",
       "    <tr>\n",
       "      <th>YZ43L1UQUQACTL1PXXZG</th>\n",
       "      <td>14</td>\n",
       "      <td>80.108839</td>\n",
       "      <td>1248.655391</td>\n",
       "      <td>No</td>\n",
       "      <td>1</td>\n",
       "      <td>0</td>\n",
       "      <td>0</td>\n",
       "      <td>0</td>\n",
       "      <td>1</td>\n",
       "      <td>0</td>\n",
       "      <td>0</td>\n",
       "      <td>0</td>\n",
       "      <td>0</td>\n",
       "      <td>0</td>\n",
       "      <td>1</td>\n",
       "      <td>0</td>\n",
       "      <td>1</td>\n",
       "      <td>0</td>\n",
       "    </tr>\n",
       "    <tr>\n",
       "      <th>6P28152QGF60PDLSCB9M</th>\n",
       "      <td>25</td>\n",
       "      <td>51.529773</td>\n",
       "      <td>1285.321277</td>\n",
       "      <td>No</td>\n",
       "      <td>0</td>\n",
       "      <td>0</td>\n",
       "      <td>1</td>\n",
       "      <td>1</td>\n",
       "      <td>1</td>\n",
       "      <td>0</td>\n",
       "      <td>1</td>\n",
       "      <td>0</td>\n",
       "      <td>1</td>\n",
       "      <td>0</td>\n",
       "      <td>1</td>\n",
       "      <td>0</td>\n",
       "      <td>1</td>\n",
       "      <td>0</td>\n",
       "    </tr>\n",
       "  </tbody>\n",
       "</table>\n",
       "</div>"
      ],
      "text/plain": [
       "                      ServiceSpan  QuarterlyPayment  GrandPayment  \\\n",
       "ID                                                                  \n",
       "B60LHTZLLPFU4IULNPUF           48         96.259802   4628.129119   \n",
       "1RUJ7ONYZHYTWKOKO1SD           45         18.876470    922.085998   \n",
       "DZ9EEOQWSN0MYCBUPAM5           59        106.016057   6205.891129   \n",
       "YZ43L1UQUQACTL1PXXZG           14         80.108839   1248.655391   \n",
       "6P28152QGF60PDLSCB9M           25         51.529773   1285.321277   \n",
       "\n",
       "                     CustomerAttrition  sex_Male  Aged_Yes  Married_Yes  \\\n",
       "ID                                                                        \n",
       "B60LHTZLLPFU4IULNPUF               Yes         0         0            0   \n",
       "1RUJ7ONYZHYTWKOKO1SD                No         1         0            1   \n",
       "DZ9EEOQWSN0MYCBUPAM5               Yes         1         1            1   \n",
       "YZ43L1UQUQACTL1PXXZG                No         1         0            0   \n",
       "6P28152QGF60PDLSCB9M                No         0         0            1   \n",
       "\n",
       "                      TotalDependents_Yes  MobileService_Yes  \\\n",
       "ID                                                             \n",
       "B60LHTZLLPFU4IULNPUF                    1                  1   \n",
       "1RUJ7ONYZHYTWKOKO1SD                    0                  1   \n",
       "DZ9EEOQWSN0MYCBUPAM5                    0                  1   \n",
       "YZ43L1UQUQACTL1PXXZG                    0                  1   \n",
       "6P28152QGF60PDLSCB9M                    1                  1   \n",
       "\n",
       "                      CyberProtection_Yes  HardwareSupport_Yes  \\\n",
       "ID                                                               \n",
       "B60LHTZLLPFU4IULNPUF                    0                    1   \n",
       "1RUJ7ONYZHYTWKOKO1SD                    0                    0   \n",
       "DZ9EEOQWSN0MYCBUPAM5                    1                    0   \n",
       "YZ43L1UQUQACTL1PXXZG                    0                    0   \n",
       "6P28152QGF60PDLSCB9M                    0                    1   \n",
       "\n",
       "                      TechnicalAssistance_Yes  FilmSubscription_Yes  \\\n",
       "ID                                                                    \n",
       "B60LHTZLLPFU4IULNPUF                        1                     0   \n",
       "1RUJ7ONYZHYTWKOKO1SD                        0                     1   \n",
       "DZ9EEOQWSN0MYCBUPAM5                        1                     0   \n",
       "YZ43L1UQUQACTL1PXXZG                        0                     0   \n",
       "6P28152QGF60PDLSCB9M                        0                     1   \n",
       "\n",
       "                      4GService_Satellite Broadband  4GService_Wifi Broadband  \\\n",
       "ID                                                                              \n",
       "B60LHTZLLPFU4IULNPUF                              0                         1   \n",
       "1RUJ7ONYZHYTWKOKO1SD                              0                         1   \n",
       "DZ9EEOQWSN0MYCBUPAM5                              0                         1   \n",
       "YZ43L1UQUQACTL1PXXZG                              0                         1   \n",
       "6P28152QGF60PDLSCB9M                              0                         1   \n",
       "\n",
       "                      SettlementProcess_Card  SettlementProcess_Check  \\\n",
       "ID                                                                      \n",
       "B60LHTZLLPFU4IULNPUF                       0                        1   \n",
       "1RUJ7ONYZHYTWKOKO1SD                       0                        0   \n",
       "DZ9EEOQWSN0MYCBUPAM5                       1                        0   \n",
       "YZ43L1UQUQACTL1PXXZG                       0                        1   \n",
       "6P28152QGF60PDLSCB9M                       0                        1   \n",
       "\n",
       "                      SettlementProcess_Electronic  \n",
       "ID                                                  \n",
       "B60LHTZLLPFU4IULNPUF                             0  \n",
       "1RUJ7ONYZHYTWKOKO1SD                             0  \n",
       "DZ9EEOQWSN0MYCBUPAM5                             0  \n",
       "YZ43L1UQUQACTL1PXXZG                             0  \n",
       "6P28152QGF60PDLSCB9M                             0  "
      ]
     },
     "execution_count": 167,
     "metadata": {},
     "output_type": "execute_result"
    }
   ],
   "source": [
    "merged.head()"
   ]
  },
  {
   "cell_type": "code",
   "execution_count": 168,
   "metadata": {},
   "outputs": [
    {
     "data": {
      "text/plain": [
       "ServiceSpan                      6338\n",
       "QuarterlyPayment                 6338\n",
       "GrandPayment                     6338\n",
       "CustomerAttrition                6338\n",
       "sex_Male                         6338\n",
       "Aged_Yes                         6338\n",
       "Married_Yes                      6338\n",
       "TotalDependents_Yes              6338\n",
       "MobileService_Yes                6338\n",
       "CyberProtection_Yes              6338\n",
       "HardwareSupport_Yes              6338\n",
       "TechnicalAssistance_Yes          6338\n",
       "FilmSubscription_Yes             6338\n",
       "4GService_Satellite Broadband    6338\n",
       "4GService_Wifi Broadband         6338\n",
       "SettlementProcess_Card           6338\n",
       "SettlementProcess_Check          6338\n",
       "SettlementProcess_Electronic     6338\n",
       "dtype: int64"
      ]
     },
     "execution_count": 168,
     "metadata": {},
     "output_type": "execute_result"
    }
   ],
   "source": [
    "merged.count()"
   ]
  },
  {
   "cell_type": "code",
   "execution_count": 169,
   "metadata": {},
   "outputs": [],
   "source": [
    "X = merged.drop([\"CustomerAttrition\"],axis = \"columns\")\n",
    "y = merged[\"CustomerAttrition\"]"
   ]
  },
  {
   "cell_type": "code",
   "execution_count": 170,
   "metadata": {},
   "outputs": [
    {
     "data": {
      "text/plain": [
       "Index(['ServiceSpan', 'QuarterlyPayment', 'GrandPayment', 'sex_Male',\n",
       "       'Aged_Yes', 'Married_Yes', 'TotalDependents_Yes', 'MobileService_Yes',\n",
       "       'CyberProtection_Yes', 'HardwareSupport_Yes', 'TechnicalAssistance_Yes',\n",
       "       'FilmSubscription_Yes', '4GService_Satellite Broadband',\n",
       "       '4GService_Wifi Broadband', 'SettlementProcess_Card',\n",
       "       'SettlementProcess_Check', 'SettlementProcess_Electronic'],\n",
       "      dtype='object')"
      ]
     },
     "execution_count": 170,
     "metadata": {},
     "output_type": "execute_result"
    }
   ],
   "source": [
    "X.keys()"
   ]
  },
  {
   "cell_type": "code",
   "execution_count": 107,
   "metadata": {},
   "outputs": [],
   "source": [
    "scaler = preprocessing.StandardScaler()"
   ]
  },
  {
   "cell_type": "code",
   "execution_count": 108,
   "metadata": {
    "scrolled": true
   },
   "outputs": [
    {
     "data": {
      "text/plain": [
       "StandardScaler(copy=True, with_mean=True, with_std=True)"
      ]
     },
     "execution_count": 108,
     "metadata": {},
     "output_type": "execute_result"
    }
   ],
   "source": [
    "scaler.fit(X)"
   ]
  },
  {
   "cell_type": "code",
   "execution_count": 196,
   "metadata": {
    "scrolled": true
   },
   "outputs": [
    {
     "data": {
      "text/plain": [
       "(6338, 17)"
      ]
     },
     "execution_count": 196,
     "metadata": {},
     "output_type": "execute_result"
    }
   ],
   "source": [
    "X.shape"
   ]
  },
  {
   "cell_type": "code",
   "execution_count": 197,
   "metadata": {},
   "outputs": [
    {
     "ename": "ValueError",
     "evalue": "operands could not be broadcast together with shapes (6338,17) (14,) (6338,17) ",
     "output_type": "error",
     "traceback": [
      "\u001b[1;31m---------------------------------------------------------------------------\u001b[0m",
      "\u001b[1;31mValueError\u001b[0m                                Traceback (most recent call last)",
      "\u001b[1;32m<ipython-input-197-9369b75fb1bb>\u001b[0m in \u001b[0;36m<module>\u001b[1;34m\u001b[0m\n\u001b[1;32m----> 1\u001b[1;33m \u001b[0mX_train_scaler\u001b[0m \u001b[1;33m=\u001b[0m \u001b[0mscaler\u001b[0m\u001b[1;33m.\u001b[0m\u001b[0mtransform\u001b[0m\u001b[1;33m(\u001b[0m\u001b[0mX\u001b[0m\u001b[1;33m)\u001b[0m\u001b[1;33m\u001b[0m\u001b[1;33m\u001b[0m\u001b[0m\n\u001b[0m\u001b[0;32m      2\u001b[0m \u001b[1;31m# X_test_scaler = scaler.transform(X_test)\u001b[0m\u001b[1;33m\u001b[0m\u001b[1;33m\u001b[0m\u001b[1;33m\u001b[0m\u001b[0m\n",
      "\u001b[1;32mC:\\ProgramData\\Anaconda3\\lib\\site-packages\\sklearn\\preprocessing\\_data.py\u001b[0m in \u001b[0;36mtransform\u001b[1;34m(self, X, copy)\u001b[0m\n\u001b[0;32m    804\u001b[0m         \u001b[1;32melse\u001b[0m\u001b[1;33m:\u001b[0m\u001b[1;33m\u001b[0m\u001b[1;33m\u001b[0m\u001b[0m\n\u001b[0;32m    805\u001b[0m             \u001b[1;32mif\u001b[0m \u001b[0mself\u001b[0m\u001b[1;33m.\u001b[0m\u001b[0mwith_mean\u001b[0m\u001b[1;33m:\u001b[0m\u001b[1;33m\u001b[0m\u001b[1;33m\u001b[0m\u001b[0m\n\u001b[1;32m--> 806\u001b[1;33m                 \u001b[0mX\u001b[0m \u001b[1;33m-=\u001b[0m \u001b[0mself\u001b[0m\u001b[1;33m.\u001b[0m\u001b[0mmean_\u001b[0m\u001b[1;33m\u001b[0m\u001b[1;33m\u001b[0m\u001b[0m\n\u001b[0m\u001b[0;32m    807\u001b[0m             \u001b[1;32mif\u001b[0m \u001b[0mself\u001b[0m\u001b[1;33m.\u001b[0m\u001b[0mwith_std\u001b[0m\u001b[1;33m:\u001b[0m\u001b[1;33m\u001b[0m\u001b[1;33m\u001b[0m\u001b[0m\n\u001b[0;32m    808\u001b[0m                 \u001b[0mX\u001b[0m \u001b[1;33m/=\u001b[0m \u001b[0mself\u001b[0m\u001b[1;33m.\u001b[0m\u001b[0mscale_\u001b[0m\u001b[1;33m\u001b[0m\u001b[1;33m\u001b[0m\u001b[0m\n",
      "\u001b[1;31mValueError\u001b[0m: operands could not be broadcast together with shapes (6338,17) (14,) (6338,17) "
     ]
    }
   ],
   "source": [
    "X_train_scaler = scaler.transform(X)\n",
    "# X_test_scaler = scaler.transform(X_test)"
   ]
  },
  {
   "cell_type": "code",
   "execution_count": 111,
   "metadata": {},
   "outputs": [],
   "source": [
    "X_train =pd.DataFrame(X_train_scaler,columns = ['ServiceSpan', 'QuarterlyPayment', 'GrandPayment', 'sex_Male',\n",
    "       'Aged_Yes', 'Married_Yes', 'TotalDependents_Yes', 'MobileService_Yes',\n",
    "       'CyberProtection_Yes', 'HardwareSupport_Yes', 'TechnicalAssistance_Yes',\n",
    "       'FilmSubscription_Yes', '4GService_Satellite Broadband',\n",
    "       '4GService_Wifi Broadband', 'SettlementProcess_Card',\n",
    "       'SettlementProcess_Check', 'SettlementProcess_Electronic'])"
   ]
  },
  {
   "cell_type": "code",
   "execution_count": 112,
   "metadata": {},
   "outputs": [],
   "source": [
    "# X_test = pd.DataFrame(X_test_scaler,columns = ['ServiceSpan', 'QuarterlyPayment', 'GrandPayment', 'sex_Male',\n",
    "#        'Aged_Yes', 'Married_Yes', 'TotalDependents_Yes', 'MobileService_Yes',\n",
    "#        'CyberProtection_Yes', 'HardwareSupport_Yes', 'TechnicalAssistance_Yes',\n",
    "#        'FilmSubscription_Yes', '4GService_Satellite Broadband',\n",
    "#        '4GService_Wifi Broadband', 'SettlementProcess_Card',\n",
    "#        'SettlementProcess_Check', 'SettlementProcess_Electronic'])"
   ]
  },
  {
   "cell_type": "code",
   "execution_count": 113,
   "metadata": {},
   "outputs": [],
   "source": [
    "#X_train ,X_test , y_train, y_test = train_test_split(X ,y, test_size=0.3)"
   ]
  },
  {
   "cell_type": "code",
   "execution_count": 216,
   "metadata": {},
   "outputs": [
    {
     "data": {
      "text/html": [
       "<div>\n",
       "<style scoped>\n",
       "    .dataframe tbody tr th:only-of-type {\n",
       "        vertical-align: middle;\n",
       "    }\n",
       "\n",
       "    .dataframe tbody tr th {\n",
       "        vertical-align: top;\n",
       "    }\n",
       "\n",
       "    .dataframe thead th {\n",
       "        text-align: right;\n",
       "    }\n",
       "</style>\n",
       "<table border=\"1\" class=\"dataframe\">\n",
       "  <thead>\n",
       "    <tr style=\"text-align: right;\">\n",
       "      <th></th>\n",
       "      <th>ServiceSpan</th>\n",
       "      <th>QuarterlyPayment</th>\n",
       "      <th>GrandPayment</th>\n",
       "      <th>sex_Male</th>\n",
       "      <th>Aged_Yes</th>\n",
       "      <th>Married_Yes</th>\n",
       "      <th>TotalDependents_Yes</th>\n",
       "      <th>MobileService_Yes</th>\n",
       "      <th>CyberProtection_Yes</th>\n",
       "      <th>HardwareSupport_Yes</th>\n",
       "      <th>TechnicalAssistance_Yes</th>\n",
       "      <th>FilmSubscription_Yes</th>\n",
       "      <th>4GService_Satellite Broadband</th>\n",
       "      <th>4GService_Wifi Broadband</th>\n",
       "      <th>SettlementProcess_Card</th>\n",
       "      <th>SettlementProcess_Check</th>\n",
       "      <th>SettlementProcess_Electronic</th>\n",
       "    </tr>\n",
       "  </thead>\n",
       "  <tbody>\n",
       "    <tr>\n",
       "      <th>0</th>\n",
       "      <td>0.653724</td>\n",
       "      <td>1.041625</td>\n",
       "      <td>1.033352</td>\n",
       "      <td>-1.013982</td>\n",
       "      <td>-0.440252</td>\n",
       "      <td>-0.967703</td>\n",
       "      <td>1.524890</td>\n",
       "      <td>0.313145</td>\n",
       "      <td>-0.637138</td>\n",
       "      <td>1.394202</td>\n",
       "      <td>1.569518</td>\n",
       "      <td>-0.788544</td>\n",
       "      <td>-0.72332</td>\n",
       "      <td>1.126247</td>\n",
       "      <td>-0.522932</td>\n",
       "      <td>1.833578</td>\n",
       "      <td>-0.712469</td>\n",
       "    </tr>\n",
       "    <tr>\n",
       "      <th>1</th>\n",
       "      <td>0.531562</td>\n",
       "      <td>-1.521695</td>\n",
       "      <td>-0.603964</td>\n",
       "      <td>0.986211</td>\n",
       "      <td>-0.440252</td>\n",
       "      <td>1.033375</td>\n",
       "      <td>-0.655785</td>\n",
       "      <td>0.313145</td>\n",
       "      <td>-0.637138</td>\n",
       "      <td>-0.717256</td>\n",
       "      <td>-0.637138</td>\n",
       "      <td>1.268160</td>\n",
       "      <td>-0.72332</td>\n",
       "      <td>1.126247</td>\n",
       "      <td>-0.522932</td>\n",
       "      <td>-0.545382</td>\n",
       "      <td>-0.712469</td>\n",
       "    </tr>\n",
       "    <tr>\n",
       "      <th>2</th>\n",
       "      <td>1.101648</td>\n",
       "      <td>1.364801</td>\n",
       "      <td>1.730402</td>\n",
       "      <td>0.986211</td>\n",
       "      <td>2.271426</td>\n",
       "      <td>1.033375</td>\n",
       "      <td>-0.655785</td>\n",
       "      <td>0.313145</td>\n",
       "      <td>1.569518</td>\n",
       "      <td>-0.717256</td>\n",
       "      <td>1.569518</td>\n",
       "      <td>-0.788544</td>\n",
       "      <td>-0.72332</td>\n",
       "      <td>1.126247</td>\n",
       "      <td>1.912294</td>\n",
       "      <td>-0.545382</td>\n",
       "      <td>-0.712469</td>\n",
       "    </tr>\n",
       "    <tr>\n",
       "      <th>3</th>\n",
       "      <td>-0.730770</td>\n",
       "      <td>0.506625</td>\n",
       "      <td>-0.459687</td>\n",
       "      <td>0.986211</td>\n",
       "      <td>-0.440252</td>\n",
       "      <td>-0.967703</td>\n",
       "      <td>-0.655785</td>\n",
       "      <td>0.313145</td>\n",
       "      <td>-0.637138</td>\n",
       "      <td>-0.717256</td>\n",
       "      <td>-0.637138</td>\n",
       "      <td>-0.788544</td>\n",
       "      <td>-0.72332</td>\n",
       "      <td>1.126247</td>\n",
       "      <td>-0.522932</td>\n",
       "      <td>1.833578</td>\n",
       "      <td>-0.712469</td>\n",
       "    </tr>\n",
       "    <tr>\n",
       "      <th>4</th>\n",
       "      <td>-0.282845</td>\n",
       "      <td>-0.440056</td>\n",
       "      <td>-0.443488</td>\n",
       "      <td>-1.013982</td>\n",
       "      <td>-0.440252</td>\n",
       "      <td>1.033375</td>\n",
       "      <td>1.524890</td>\n",
       "      <td>0.313145</td>\n",
       "      <td>-0.637138</td>\n",
       "      <td>1.394202</td>\n",
       "      <td>-0.637138</td>\n",
       "      <td>1.268160</td>\n",
       "      <td>-0.72332</td>\n",
       "      <td>1.126247</td>\n",
       "      <td>-0.522932</td>\n",
       "      <td>1.833578</td>\n",
       "      <td>-0.712469</td>\n",
       "    </tr>\n",
       "  </tbody>\n",
       "</table>\n",
       "</div>"
      ],
      "text/plain": [
       "   ServiceSpan  QuarterlyPayment  GrandPayment  sex_Male  Aged_Yes  \\\n",
       "0     0.653724          1.041625      1.033352 -1.013982 -0.440252   \n",
       "1     0.531562         -1.521695     -0.603964  0.986211 -0.440252   \n",
       "2     1.101648          1.364801      1.730402  0.986211  2.271426   \n",
       "3    -0.730770          0.506625     -0.459687  0.986211 -0.440252   \n",
       "4    -0.282845         -0.440056     -0.443488 -1.013982 -0.440252   \n",
       "\n",
       "   Married_Yes  TotalDependents_Yes  MobileService_Yes  CyberProtection_Yes  \\\n",
       "0    -0.967703             1.524890           0.313145            -0.637138   \n",
       "1     1.033375            -0.655785           0.313145            -0.637138   \n",
       "2     1.033375            -0.655785           0.313145             1.569518   \n",
       "3    -0.967703            -0.655785           0.313145            -0.637138   \n",
       "4     1.033375             1.524890           0.313145            -0.637138   \n",
       "\n",
       "   HardwareSupport_Yes  TechnicalAssistance_Yes  FilmSubscription_Yes  \\\n",
       "0             1.394202                 1.569518             -0.788544   \n",
       "1            -0.717256                -0.637138              1.268160   \n",
       "2            -0.717256                 1.569518             -0.788544   \n",
       "3            -0.717256                -0.637138             -0.788544   \n",
       "4             1.394202                -0.637138              1.268160   \n",
       "\n",
       "   4GService_Satellite Broadband  4GService_Wifi Broadband  \\\n",
       "0                       -0.72332                  1.126247   \n",
       "1                       -0.72332                  1.126247   \n",
       "2                       -0.72332                  1.126247   \n",
       "3                       -0.72332                  1.126247   \n",
       "4                       -0.72332                  1.126247   \n",
       "\n",
       "   SettlementProcess_Card  SettlementProcess_Check  \\\n",
       "0               -0.522932                 1.833578   \n",
       "1               -0.522932                -0.545382   \n",
       "2                1.912294                -0.545382   \n",
       "3               -0.522932                 1.833578   \n",
       "4               -0.522932                 1.833578   \n",
       "\n",
       "   SettlementProcess_Electronic  \n",
       "0                     -0.712469  \n",
       "1                     -0.712469  \n",
       "2                     -0.712469  \n",
       "3                     -0.712469  \n",
       "4                     -0.712469  "
      ]
     },
     "execution_count": 216,
     "metadata": {},
     "output_type": "execute_result"
    }
   ],
   "source": [
    "X_train.head()"
   ]
  },
  {
   "cell_type": "code",
   "execution_count": 228,
   "metadata": {},
   "outputs": [],
   "source": [
    "from sklearn.neighbors import KNeighborsClassifier"
   ]
  },
  {
   "cell_type": "code",
   "execution_count": 229,
   "metadata": {},
   "outputs": [],
   "source": [
    "# ply = PolynomialFeatures(degree = 2)\n",
    "# ply.fit(X_train)"
   ]
  },
  {
   "cell_type": "code",
   "execution_count": 230,
   "metadata": {},
   "outputs": [],
   "source": [
    "# ply.transform(X_train)\n",
    "# ply.transform(X_test)"
   ]
  },
  {
   "cell_type": "code",
   "execution_count": 231,
   "metadata": {},
   "outputs": [],
   "source": [
    "classifier = KNeighborsClassifier()"
   ]
  },
  {
   "cell_type": "code",
   "execution_count": 232,
   "metadata": {
    "scrolled": true
   },
   "outputs": [
    {
     "data": {
      "text/plain": [
       "KNeighborsClassifier(algorithm='auto', leaf_size=30, metric='minkowski',\n",
       "                     metric_params=None, n_jobs=None, n_neighbors=5, p=2,\n",
       "                     weights='uniform')"
      ]
     },
     "execution_count": 232,
     "metadata": {},
     "output_type": "execute_result"
    }
   ],
   "source": [
    "classifier.fit(X_train,y)"
   ]
  },
  {
   "cell_type": "code",
   "execution_count": 233,
   "metadata": {},
   "outputs": [
    {
     "data": {
      "text/plain": [
       "0.8237614389397286"
      ]
     },
     "execution_count": 233,
     "metadata": {},
     "output_type": "execute_result"
    }
   ],
   "source": [
    "classifier.score(X_train,y)"
   ]
  },
  {
   "cell_type": "code",
   "execution_count": 259,
   "metadata": {},
   "outputs": [],
   "source": [
    "df_test = pd.read_csv(\"test.csv\")"
   ]
  },
  {
   "cell_type": "code",
   "execution_count": 261,
   "metadata": {},
   "outputs": [
    {
     "data": {
      "text/html": [
       "<div>\n",
       "<style scoped>\n",
       "    .dataframe tbody tr th:only-of-type {\n",
       "        vertical-align: middle;\n",
       "    }\n",
       "\n",
       "    .dataframe tbody tr th {\n",
       "        vertical-align: top;\n",
       "    }\n",
       "\n",
       "    .dataframe thead th {\n",
       "        text-align: right;\n",
       "    }\n",
       "</style>\n",
       "<table border=\"1\" class=\"dataframe\">\n",
       "  <thead>\n",
       "    <tr style=\"text-align: right;\">\n",
       "      <th></th>\n",
       "      <th>ID</th>\n",
       "      <th>sex</th>\n",
       "      <th>Aged</th>\n",
       "      <th>Married</th>\n",
       "      <th>TotalDependents</th>\n",
       "      <th>ServiceSpan</th>\n",
       "      <th>MobileService</th>\n",
       "      <th>4GService</th>\n",
       "      <th>CyberProtection</th>\n",
       "      <th>HardwareSupport</th>\n",
       "      <th>TechnicalAssistance</th>\n",
       "      <th>FilmSubscription</th>\n",
       "      <th>SettlementProcess</th>\n",
       "      <th>QuarterlyPayment</th>\n",
       "      <th>GrandPayment</th>\n",
       "    </tr>\n",
       "  </thead>\n",
       "  <tbody>\n",
       "    <tr>\n",
       "      <th>0</th>\n",
       "      <td>WMORTPCG3HTIPEFSGUFY</td>\n",
       "      <td>Male</td>\n",
       "      <td>No</td>\n",
       "      <td>No</td>\n",
       "      <td>No</td>\n",
       "      <td>8</td>\n",
       "      <td>Yes</td>\n",
       "      <td>Wifi Broadband</td>\n",
       "      <td>No</td>\n",
       "      <td>No</td>\n",
       "      <td>No</td>\n",
       "      <td>Yes</td>\n",
       "      <td>Check</td>\n",
       "      <td>21.299937</td>\n",
       "      <td>151.092519</td>\n",
       "    </tr>\n",
       "    <tr>\n",
       "      <th>1</th>\n",
       "      <td>GBLPEA16C3KGBO57KEFO</td>\n",
       "      <td>Female</td>\n",
       "      <td>No</td>\n",
       "      <td>No</td>\n",
       "      <td>No</td>\n",
       "      <td>26</td>\n",
       "      <td>Yes</td>\n",
       "      <td>Satellite Broadband</td>\n",
       "      <td>No</td>\n",
       "      <td>Yes</td>\n",
       "      <td>No</td>\n",
       "      <td>Yes</td>\n",
       "      <td>Check</td>\n",
       "      <td>56.609623</td>\n",
       "      <td>1553.276979</td>\n",
       "    </tr>\n",
       "    <tr>\n",
       "      <th>2</th>\n",
       "      <td>IDCQS0CO5P29AMKY3LO1</td>\n",
       "      <td>Male</td>\n",
       "      <td>No</td>\n",
       "      <td>No</td>\n",
       "      <td>No</td>\n",
       "      <td>66</td>\n",
       "      <td>Yes</td>\n",
       "      <td>Satellite Broadband</td>\n",
       "      <td>No</td>\n",
       "      <td>No</td>\n",
       "      <td>No</td>\n",
       "      <td>Yes</td>\n",
       "      <td>Card</td>\n",
       "      <td>25.167690</td>\n",
       "      <td>1684.262416</td>\n",
       "    </tr>\n",
       "    <tr>\n",
       "      <th>3</th>\n",
       "      <td>1IY29SDITYU6IFZ4KJB0</td>\n",
       "      <td>Female</td>\n",
       "      <td>Yes</td>\n",
       "      <td>No</td>\n",
       "      <td>No</td>\n",
       "      <td>31</td>\n",
       "      <td>Yes</td>\n",
       "      <td>Satellite Broadband</td>\n",
       "      <td>No</td>\n",
       "      <td>No</td>\n",
       "      <td>Yes</td>\n",
       "      <td>Yes</td>\n",
       "      <td>Bank</td>\n",
       "      <td>55.560968</td>\n",
       "      <td>1829.874462</td>\n",
       "    </tr>\n",
       "    <tr>\n",
       "      <th>4</th>\n",
       "      <td>T5XMW5B0YPCONH30WJD2</td>\n",
       "      <td>Female</td>\n",
       "      <td>No</td>\n",
       "      <td>Yes</td>\n",
       "      <td>Yes</td>\n",
       "      <td>21</td>\n",
       "      <td>Yes</td>\n",
       "      <td>Satellite Broadband</td>\n",
       "      <td>No</td>\n",
       "      <td>No</td>\n",
       "      <td>No</td>\n",
       "      <td>No</td>\n",
       "      <td>Bank</td>\n",
       "      <td>20.070002</td>\n",
       "      <td>489.818170</td>\n",
       "    </tr>\n",
       "  </tbody>\n",
       "</table>\n",
       "</div>"
      ],
      "text/plain": [
       "                     ID     sex Aged Married TotalDependents  ServiceSpan  \\\n",
       "0  WMORTPCG3HTIPEFSGUFY    Male   No      No              No            8   \n",
       "1  GBLPEA16C3KGBO57KEFO  Female   No      No              No           26   \n",
       "2  IDCQS0CO5P29AMKY3LO1    Male   No      No              No           66   \n",
       "3  1IY29SDITYU6IFZ4KJB0  Female  Yes      No              No           31   \n",
       "4  T5XMW5B0YPCONH30WJD2  Female   No     Yes             Yes           21   \n",
       "\n",
       "  MobileService            4GService CyberProtection HardwareSupport  \\\n",
       "0           Yes       Wifi Broadband              No              No   \n",
       "1           Yes  Satellite Broadband              No             Yes   \n",
       "2           Yes  Satellite Broadband              No              No   \n",
       "3           Yes  Satellite Broadband              No              No   \n",
       "4           Yes  Satellite Broadband              No              No   \n",
       "\n",
       "  TechnicalAssistance FilmSubscription SettlementProcess  QuarterlyPayment  \\\n",
       "0                  No              Yes             Check         21.299937   \n",
       "1                  No              Yes             Check         56.609623   \n",
       "2                  No              Yes              Card         25.167690   \n",
       "3                 Yes              Yes              Bank         55.560968   \n",
       "4                  No               No              Bank         20.070002   \n",
       "\n",
       "   GrandPayment  \n",
       "0    151.092519  \n",
       "1   1553.276979  \n",
       "2   1684.262416  \n",
       "3   1829.874462  \n",
       "4    489.818170  "
      ]
     },
     "execution_count": 261,
     "metadata": {},
     "output_type": "execute_result"
    }
   ],
   "source": [
    "df_test.head()"
   ]
  },
  {
   "cell_type": "code",
   "execution_count": 262,
   "metadata": {
    "scrolled": true
   },
   "outputs": [
    {
     "data": {
      "text/plain": [
       "ID                     0\n",
       "sex                    0\n",
       "Aged                   0\n",
       "Married                0\n",
       "TotalDependents        0\n",
       "ServiceSpan            0\n",
       "MobileService          0\n",
       "4GService              0\n",
       "CyberProtection        0\n",
       "HardwareSupport        0\n",
       "TechnicalAssistance    0\n",
       "FilmSubscription       0\n",
       "SettlementProcess      0\n",
       "QuarterlyPayment       0\n",
       "GrandPayment           1\n",
       "dtype: int64"
      ]
     },
     "execution_count": 262,
     "metadata": {},
     "output_type": "execute_result"
    }
   ],
   "source": [
    "df_test.isnull().sum()"
   ]
  },
  {
   "cell_type": "code",
   "execution_count": 263,
   "metadata": {},
   "outputs": [],
   "source": [
    "df_test[\"GrandPayment\"].fillna(df_test[\"GrandPayment\"].median(),inplace = True)"
   ]
  },
  {
   "cell_type": "code",
   "execution_count": 264,
   "metadata": {},
   "outputs": [
    {
     "data": {
      "text/plain": [
       "ID                     0\n",
       "sex                    0\n",
       "Aged                   0\n",
       "Married                0\n",
       "TotalDependents        0\n",
       "ServiceSpan            0\n",
       "MobileService          0\n",
       "4GService              0\n",
       "CyberProtection        0\n",
       "HardwareSupport        0\n",
       "TechnicalAssistance    0\n",
       "FilmSubscription       0\n",
       "SettlementProcess      0\n",
       "QuarterlyPayment       0\n",
       "GrandPayment           0\n",
       "dtype: int64"
      ]
     },
     "execution_count": 264,
     "metadata": {},
     "output_type": "execute_result"
    }
   ],
   "source": [
    "df_test.isnull().sum()"
   ]
  },
  {
   "cell_type": "code",
   "execution_count": 265,
   "metadata": {
    "scrolled": true
   },
   "outputs": [
    {
     "data": {
      "text/plain": [
       "Index(['ID', 'sex', 'Aged', 'Married', 'TotalDependents', 'ServiceSpan',\n",
       "       'MobileService', '4GService', 'CyberProtection', 'HardwareSupport',\n",
       "       'TechnicalAssistance', 'FilmSubscription', 'SettlementProcess',\n",
       "       'QuarterlyPayment', 'GrandPayment'],\n",
       "      dtype='object')"
      ]
     },
     "execution_count": 265,
     "metadata": {},
     "output_type": "execute_result"
    }
   ],
   "source": [
    "df_test.keys()"
   ]
  },
  {
   "cell_type": "code",
   "execution_count": 266,
   "metadata": {
    "scrolled": false
   },
   "outputs": [
    {
     "data": {
      "text/html": [
       "<div>\n",
       "<style scoped>\n",
       "    .dataframe tbody tr th:only-of-type {\n",
       "        vertical-align: middle;\n",
       "    }\n",
       "\n",
       "    .dataframe tbody tr th {\n",
       "        vertical-align: top;\n",
       "    }\n",
       "\n",
       "    .dataframe thead th {\n",
       "        text-align: right;\n",
       "    }\n",
       "</style>\n",
       "<table border=\"1\" class=\"dataframe\">\n",
       "  <thead>\n",
       "    <tr style=\"text-align: right;\">\n",
       "      <th></th>\n",
       "      <th>sex_Male</th>\n",
       "      <th>Aged_Yes</th>\n",
       "      <th>Married_Yes</th>\n",
       "      <th>TotalDependents_Yes</th>\n",
       "      <th>MobileService_Yes</th>\n",
       "      <th>CyberProtection_Yes</th>\n",
       "      <th>HardwareSupport_Yes</th>\n",
       "      <th>TechnicalAssistance_Yes</th>\n",
       "      <th>FilmSubscription_Yes</th>\n",
       "      <th>4GService_Satellite Broadband</th>\n",
       "      <th>4GService_Wifi Broadband</th>\n",
       "      <th>SettlementProcess_Card</th>\n",
       "      <th>SettlementProcess_Check</th>\n",
       "      <th>SettlementProcess_Electronic</th>\n",
       "    </tr>\n",
       "  </thead>\n",
       "  <tbody>\n",
       "    <tr>\n",
       "      <th>0</th>\n",
       "      <td>1</td>\n",
       "      <td>0</td>\n",
       "      <td>0</td>\n",
       "      <td>0</td>\n",
       "      <td>1</td>\n",
       "      <td>0</td>\n",
       "      <td>0</td>\n",
       "      <td>0</td>\n",
       "      <td>1</td>\n",
       "      <td>0</td>\n",
       "      <td>1</td>\n",
       "      <td>0</td>\n",
       "      <td>1</td>\n",
       "      <td>0</td>\n",
       "    </tr>\n",
       "    <tr>\n",
       "      <th>1</th>\n",
       "      <td>0</td>\n",
       "      <td>0</td>\n",
       "      <td>0</td>\n",
       "      <td>0</td>\n",
       "      <td>1</td>\n",
       "      <td>0</td>\n",
       "      <td>1</td>\n",
       "      <td>0</td>\n",
       "      <td>1</td>\n",
       "      <td>1</td>\n",
       "      <td>0</td>\n",
       "      <td>0</td>\n",
       "      <td>1</td>\n",
       "      <td>0</td>\n",
       "    </tr>\n",
       "    <tr>\n",
       "      <th>2</th>\n",
       "      <td>1</td>\n",
       "      <td>0</td>\n",
       "      <td>0</td>\n",
       "      <td>0</td>\n",
       "      <td>1</td>\n",
       "      <td>0</td>\n",
       "      <td>0</td>\n",
       "      <td>0</td>\n",
       "      <td>1</td>\n",
       "      <td>1</td>\n",
       "      <td>0</td>\n",
       "      <td>1</td>\n",
       "      <td>0</td>\n",
       "      <td>0</td>\n",
       "    </tr>\n",
       "    <tr>\n",
       "      <th>3</th>\n",
       "      <td>0</td>\n",
       "      <td>1</td>\n",
       "      <td>0</td>\n",
       "      <td>0</td>\n",
       "      <td>1</td>\n",
       "      <td>0</td>\n",
       "      <td>0</td>\n",
       "      <td>1</td>\n",
       "      <td>1</td>\n",
       "      <td>1</td>\n",
       "      <td>0</td>\n",
       "      <td>0</td>\n",
       "      <td>0</td>\n",
       "      <td>0</td>\n",
       "    </tr>\n",
       "    <tr>\n",
       "      <th>4</th>\n",
       "      <td>0</td>\n",
       "      <td>0</td>\n",
       "      <td>1</td>\n",
       "      <td>1</td>\n",
       "      <td>1</td>\n",
       "      <td>0</td>\n",
       "      <td>0</td>\n",
       "      <td>0</td>\n",
       "      <td>0</td>\n",
       "      <td>1</td>\n",
       "      <td>0</td>\n",
       "      <td>0</td>\n",
       "      <td>0</td>\n",
       "      <td>0</td>\n",
       "    </tr>\n",
       "  </tbody>\n",
       "</table>\n",
       "</div>"
      ],
      "text/plain": [
       "   sex_Male  Aged_Yes  Married_Yes  TotalDependents_Yes  MobileService_Yes  \\\n",
       "0         1         0            0                    0                  1   \n",
       "1         0         0            0                    0                  1   \n",
       "2         1         0            0                    0                  1   \n",
       "3         0         1            0                    0                  1   \n",
       "4         0         0            1                    1                  1   \n",
       "\n",
       "   CyberProtection_Yes  HardwareSupport_Yes  TechnicalAssistance_Yes  \\\n",
       "0                    0                    0                        0   \n",
       "1                    0                    1                        0   \n",
       "2                    0                    0                        0   \n",
       "3                    0                    0                        1   \n",
       "4                    0                    0                        0   \n",
       "\n",
       "   FilmSubscription_Yes  4GService_Satellite Broadband  \\\n",
       "0                     1                              0   \n",
       "1                     1                              1   \n",
       "2                     1                              1   \n",
       "3                     1                              1   \n",
       "4                     0                              1   \n",
       "\n",
       "   4GService_Wifi Broadband  SettlementProcess_Card  SettlementProcess_Check  \\\n",
       "0                         1                       0                        1   \n",
       "1                         0                       0                        1   \n",
       "2                         0                       1                        0   \n",
       "3                         0                       0                        0   \n",
       "4                         0                       0                        0   \n",
       "\n",
       "   SettlementProcess_Electronic  \n",
       "0                             0  \n",
       "1                             0  \n",
       "2                             0  \n",
       "3                             0  \n",
       "4                             0  "
      ]
     },
     "execution_count": 266,
     "metadata": {},
     "output_type": "execute_result"
    }
   ],
   "source": [
    "df_dummies = pd.get_dummies(df_test[[\"sex\",\"Aged\",\"Married\",\"TotalDependents\",\"MobileService\",\"CyberProtection\",\"HardwareSupport\",\"TechnicalAssistance\",\"FilmSubscription\",\"4GService\",\"SettlementProcess\"]],drop_first = True)\n",
    "df_dummies.head()"
   ]
  },
  {
   "cell_type": "code",
   "execution_count": 267,
   "metadata": {},
   "outputs": [
    {
     "data": {
      "text/plain": [
       "Index(['sex_Male', 'Aged_Yes', 'Married_Yes', 'TotalDependents_Yes',\n",
       "       'MobileService_Yes', 'CyberProtection_Yes', 'HardwareSupport_Yes',\n",
       "       'TechnicalAssistance_Yes', 'FilmSubscription_Yes',\n",
       "       '4GService_Satellite Broadband', '4GService_Wifi Broadband',\n",
       "       'SettlementProcess_Card', 'SettlementProcess_Check',\n",
       "       'SettlementProcess_Electronic'],\n",
       "      dtype='object')"
      ]
     },
     "execution_count": 267,
     "metadata": {},
     "output_type": "execute_result"
    }
   ],
   "source": [
    "df_dummies.keys()"
   ]
  },
  {
   "cell_type": "code",
   "execution_count": 269,
   "metadata": {},
   "outputs": [],
   "source": [
    "df_t = pd.concat([df_test[[\"ID\",\"ServiceSpan\",\"QuarterlyPayment\",\"GrandPayment\"]],df_dummies],axis = \"columns\")"
   ]
  },
  {
   "cell_type": "code",
   "execution_count": 270,
   "metadata": {
    "scrolled": true
   },
   "outputs": [
    {
     "data": {
      "text/html": [
       "<div>\n",
       "<style scoped>\n",
       "    .dataframe tbody tr th:only-of-type {\n",
       "        vertical-align: middle;\n",
       "    }\n",
       "\n",
       "    .dataframe tbody tr th {\n",
       "        vertical-align: top;\n",
       "    }\n",
       "\n",
       "    .dataframe thead th {\n",
       "        text-align: right;\n",
       "    }\n",
       "</style>\n",
       "<table border=\"1\" class=\"dataframe\">\n",
       "  <thead>\n",
       "    <tr style=\"text-align: right;\">\n",
       "      <th></th>\n",
       "      <th>ID</th>\n",
       "      <th>ServiceSpan</th>\n",
       "      <th>QuarterlyPayment</th>\n",
       "      <th>GrandPayment</th>\n",
       "      <th>sex_Male</th>\n",
       "      <th>Aged_Yes</th>\n",
       "      <th>Married_Yes</th>\n",
       "      <th>TotalDependents_Yes</th>\n",
       "      <th>MobileService_Yes</th>\n",
       "      <th>CyberProtection_Yes</th>\n",
       "      <th>HardwareSupport_Yes</th>\n",
       "      <th>TechnicalAssistance_Yes</th>\n",
       "      <th>FilmSubscription_Yes</th>\n",
       "      <th>4GService_Satellite Broadband</th>\n",
       "      <th>4GService_Wifi Broadband</th>\n",
       "      <th>SettlementProcess_Card</th>\n",
       "      <th>SettlementProcess_Check</th>\n",
       "      <th>SettlementProcess_Electronic</th>\n",
       "    </tr>\n",
       "  </thead>\n",
       "  <tbody>\n",
       "    <tr>\n",
       "      <th>0</th>\n",
       "      <td>WMORTPCG3HTIPEFSGUFY</td>\n",
       "      <td>8</td>\n",
       "      <td>21.299937</td>\n",
       "      <td>151.092519</td>\n",
       "      <td>1</td>\n",
       "      <td>0</td>\n",
       "      <td>0</td>\n",
       "      <td>0</td>\n",
       "      <td>1</td>\n",
       "      <td>0</td>\n",
       "      <td>0</td>\n",
       "      <td>0</td>\n",
       "      <td>1</td>\n",
       "      <td>0</td>\n",
       "      <td>1</td>\n",
       "      <td>0</td>\n",
       "      <td>1</td>\n",
       "      <td>0</td>\n",
       "    </tr>\n",
       "    <tr>\n",
       "      <th>1</th>\n",
       "      <td>GBLPEA16C3KGBO57KEFO</td>\n",
       "      <td>26</td>\n",
       "      <td>56.609623</td>\n",
       "      <td>1553.276979</td>\n",
       "      <td>0</td>\n",
       "      <td>0</td>\n",
       "      <td>0</td>\n",
       "      <td>0</td>\n",
       "      <td>1</td>\n",
       "      <td>0</td>\n",
       "      <td>1</td>\n",
       "      <td>0</td>\n",
       "      <td>1</td>\n",
       "      <td>1</td>\n",
       "      <td>0</td>\n",
       "      <td>0</td>\n",
       "      <td>1</td>\n",
       "      <td>0</td>\n",
       "    </tr>\n",
       "    <tr>\n",
       "      <th>2</th>\n",
       "      <td>IDCQS0CO5P29AMKY3LO1</td>\n",
       "      <td>66</td>\n",
       "      <td>25.167690</td>\n",
       "      <td>1684.262416</td>\n",
       "      <td>1</td>\n",
       "      <td>0</td>\n",
       "      <td>0</td>\n",
       "      <td>0</td>\n",
       "      <td>1</td>\n",
       "      <td>0</td>\n",
       "      <td>0</td>\n",
       "      <td>0</td>\n",
       "      <td>1</td>\n",
       "      <td>1</td>\n",
       "      <td>0</td>\n",
       "      <td>1</td>\n",
       "      <td>0</td>\n",
       "      <td>0</td>\n",
       "    </tr>\n",
       "    <tr>\n",
       "      <th>3</th>\n",
       "      <td>1IY29SDITYU6IFZ4KJB0</td>\n",
       "      <td>31</td>\n",
       "      <td>55.560968</td>\n",
       "      <td>1829.874462</td>\n",
       "      <td>0</td>\n",
       "      <td>1</td>\n",
       "      <td>0</td>\n",
       "      <td>0</td>\n",
       "      <td>1</td>\n",
       "      <td>0</td>\n",
       "      <td>0</td>\n",
       "      <td>1</td>\n",
       "      <td>1</td>\n",
       "      <td>1</td>\n",
       "      <td>0</td>\n",
       "      <td>0</td>\n",
       "      <td>0</td>\n",
       "      <td>0</td>\n",
       "    </tr>\n",
       "    <tr>\n",
       "      <th>4</th>\n",
       "      <td>T5XMW5B0YPCONH30WJD2</td>\n",
       "      <td>21</td>\n",
       "      <td>20.070002</td>\n",
       "      <td>489.818170</td>\n",
       "      <td>0</td>\n",
       "      <td>0</td>\n",
       "      <td>1</td>\n",
       "      <td>1</td>\n",
       "      <td>1</td>\n",
       "      <td>0</td>\n",
       "      <td>0</td>\n",
       "      <td>0</td>\n",
       "      <td>0</td>\n",
       "      <td>1</td>\n",
       "      <td>0</td>\n",
       "      <td>0</td>\n",
       "      <td>0</td>\n",
       "      <td>0</td>\n",
       "    </tr>\n",
       "  </tbody>\n",
       "</table>\n",
       "</div>"
      ],
      "text/plain": [
       "                     ID  ServiceSpan  QuarterlyPayment  GrandPayment  \\\n",
       "0  WMORTPCG3HTIPEFSGUFY            8         21.299937    151.092519   \n",
       "1  GBLPEA16C3KGBO57KEFO           26         56.609623   1553.276979   \n",
       "2  IDCQS0CO5P29AMKY3LO1           66         25.167690   1684.262416   \n",
       "3  1IY29SDITYU6IFZ4KJB0           31         55.560968   1829.874462   \n",
       "4  T5XMW5B0YPCONH30WJD2           21         20.070002    489.818170   \n",
       "\n",
       "   sex_Male  Aged_Yes  Married_Yes  TotalDependents_Yes  MobileService_Yes  \\\n",
       "0         1         0            0                    0                  1   \n",
       "1         0         0            0                    0                  1   \n",
       "2         1         0            0                    0                  1   \n",
       "3         0         1            0                    0                  1   \n",
       "4         0         0            1                    1                  1   \n",
       "\n",
       "   CyberProtection_Yes  HardwareSupport_Yes  TechnicalAssistance_Yes  \\\n",
       "0                    0                    0                        0   \n",
       "1                    0                    1                        0   \n",
       "2                    0                    0                        0   \n",
       "3                    0                    0                        1   \n",
       "4                    0                    0                        0   \n",
       "\n",
       "   FilmSubscription_Yes  4GService_Satellite Broadband  \\\n",
       "0                     1                              0   \n",
       "1                     1                              1   \n",
       "2                     1                              1   \n",
       "3                     1                              1   \n",
       "4                     0                              1   \n",
       "\n",
       "   4GService_Wifi Broadband  SettlementProcess_Card  SettlementProcess_Check  \\\n",
       "0                         1                       0                        1   \n",
       "1                         0                       0                        1   \n",
       "2                         0                       1                        0   \n",
       "3                         0                       0                        0   \n",
       "4                         0                       0                        0   \n",
       "\n",
       "   SettlementProcess_Electronic  \n",
       "0                             0  \n",
       "1                             0  \n",
       "2                             0  \n",
       "3                             0  \n",
       "4                             0  "
      ]
     },
     "execution_count": 270,
     "metadata": {},
     "output_type": "execute_result"
    }
   ],
   "source": [
    "df_t.head()"
   ]
  },
  {
   "cell_type": "code",
   "execution_count": 271,
   "metadata": {},
   "outputs": [
    {
     "data": {
      "text/plain": [
       "Index(['ID', 'sex', 'Aged', 'Married', 'TotalDependents', 'ServiceSpan',\n",
       "       'MobileService', '4GService', 'CyberProtection', 'HardwareSupport',\n",
       "       'TechnicalAssistance', 'FilmSubscription', 'SettlementProcess',\n",
       "       'QuarterlyPayment', 'GrandPayment'],\n",
       "      dtype='object')"
      ]
     },
     "execution_count": 271,
     "metadata": {},
     "output_type": "execute_result"
    }
   ],
   "source": [
    "df_train.keys()"
   ]
  },
  {
   "cell_type": "code",
   "execution_count": 272,
   "metadata": {},
   "outputs": [],
   "source": [
    "df_t.set_index(\"ID\",inplace = True)"
   ]
  },
  {
   "cell_type": "code",
   "execution_count": 273,
   "metadata": {},
   "outputs": [
    {
     "data": {
      "text/html": [
       "<div>\n",
       "<style scoped>\n",
       "    .dataframe tbody tr th:only-of-type {\n",
       "        vertical-align: middle;\n",
       "    }\n",
       "\n",
       "    .dataframe tbody tr th {\n",
       "        vertical-align: top;\n",
       "    }\n",
       "\n",
       "    .dataframe thead th {\n",
       "        text-align: right;\n",
       "    }\n",
       "</style>\n",
       "<table border=\"1\" class=\"dataframe\">\n",
       "  <thead>\n",
       "    <tr style=\"text-align: right;\">\n",
       "      <th></th>\n",
       "      <th>ServiceSpan</th>\n",
       "      <th>QuarterlyPayment</th>\n",
       "      <th>GrandPayment</th>\n",
       "      <th>sex_Male</th>\n",
       "      <th>Aged_Yes</th>\n",
       "      <th>Married_Yes</th>\n",
       "      <th>TotalDependents_Yes</th>\n",
       "      <th>MobileService_Yes</th>\n",
       "      <th>CyberProtection_Yes</th>\n",
       "      <th>HardwareSupport_Yes</th>\n",
       "      <th>TechnicalAssistance_Yes</th>\n",
       "      <th>FilmSubscription_Yes</th>\n",
       "      <th>4GService_Satellite Broadband</th>\n",
       "      <th>4GService_Wifi Broadband</th>\n",
       "      <th>SettlementProcess_Card</th>\n",
       "      <th>SettlementProcess_Check</th>\n",
       "      <th>SettlementProcess_Electronic</th>\n",
       "    </tr>\n",
       "    <tr>\n",
       "      <th>ID</th>\n",
       "      <th></th>\n",
       "      <th></th>\n",
       "      <th></th>\n",
       "      <th></th>\n",
       "      <th></th>\n",
       "      <th></th>\n",
       "      <th></th>\n",
       "      <th></th>\n",
       "      <th></th>\n",
       "      <th></th>\n",
       "      <th></th>\n",
       "      <th></th>\n",
       "      <th></th>\n",
       "      <th></th>\n",
       "      <th></th>\n",
       "      <th></th>\n",
       "      <th></th>\n",
       "    </tr>\n",
       "  </thead>\n",
       "  <tbody>\n",
       "    <tr>\n",
       "      <th>WMORTPCG3HTIPEFSGUFY</th>\n",
       "      <td>8</td>\n",
       "      <td>21.299937</td>\n",
       "      <td>151.092519</td>\n",
       "      <td>1</td>\n",
       "      <td>0</td>\n",
       "      <td>0</td>\n",
       "      <td>0</td>\n",
       "      <td>1</td>\n",
       "      <td>0</td>\n",
       "      <td>0</td>\n",
       "      <td>0</td>\n",
       "      <td>1</td>\n",
       "      <td>0</td>\n",
       "      <td>1</td>\n",
       "      <td>0</td>\n",
       "      <td>1</td>\n",
       "      <td>0</td>\n",
       "    </tr>\n",
       "    <tr>\n",
       "      <th>GBLPEA16C3KGBO57KEFO</th>\n",
       "      <td>26</td>\n",
       "      <td>56.609623</td>\n",
       "      <td>1553.276979</td>\n",
       "      <td>0</td>\n",
       "      <td>0</td>\n",
       "      <td>0</td>\n",
       "      <td>0</td>\n",
       "      <td>1</td>\n",
       "      <td>0</td>\n",
       "      <td>1</td>\n",
       "      <td>0</td>\n",
       "      <td>1</td>\n",
       "      <td>1</td>\n",
       "      <td>0</td>\n",
       "      <td>0</td>\n",
       "      <td>1</td>\n",
       "      <td>0</td>\n",
       "    </tr>\n",
       "    <tr>\n",
       "      <th>IDCQS0CO5P29AMKY3LO1</th>\n",
       "      <td>66</td>\n",
       "      <td>25.167690</td>\n",
       "      <td>1684.262416</td>\n",
       "      <td>1</td>\n",
       "      <td>0</td>\n",
       "      <td>0</td>\n",
       "      <td>0</td>\n",
       "      <td>1</td>\n",
       "      <td>0</td>\n",
       "      <td>0</td>\n",
       "      <td>0</td>\n",
       "      <td>1</td>\n",
       "      <td>1</td>\n",
       "      <td>0</td>\n",
       "      <td>1</td>\n",
       "      <td>0</td>\n",
       "      <td>0</td>\n",
       "    </tr>\n",
       "    <tr>\n",
       "      <th>1IY29SDITYU6IFZ4KJB0</th>\n",
       "      <td>31</td>\n",
       "      <td>55.560968</td>\n",
       "      <td>1829.874462</td>\n",
       "      <td>0</td>\n",
       "      <td>1</td>\n",
       "      <td>0</td>\n",
       "      <td>0</td>\n",
       "      <td>1</td>\n",
       "      <td>0</td>\n",
       "      <td>0</td>\n",
       "      <td>1</td>\n",
       "      <td>1</td>\n",
       "      <td>1</td>\n",
       "      <td>0</td>\n",
       "      <td>0</td>\n",
       "      <td>0</td>\n",
       "      <td>0</td>\n",
       "    </tr>\n",
       "    <tr>\n",
       "      <th>T5XMW5B0YPCONH30WJD2</th>\n",
       "      <td>21</td>\n",
       "      <td>20.070002</td>\n",
       "      <td>489.818170</td>\n",
       "      <td>0</td>\n",
       "      <td>0</td>\n",
       "      <td>1</td>\n",
       "      <td>1</td>\n",
       "      <td>1</td>\n",
       "      <td>0</td>\n",
       "      <td>0</td>\n",
       "      <td>0</td>\n",
       "      <td>0</td>\n",
       "      <td>1</td>\n",
       "      <td>0</td>\n",
       "      <td>0</td>\n",
       "      <td>0</td>\n",
       "      <td>0</td>\n",
       "    </tr>\n",
       "  </tbody>\n",
       "</table>\n",
       "</div>"
      ],
      "text/plain": [
       "                      ServiceSpan  QuarterlyPayment  GrandPayment  sex_Male  \\\n",
       "ID                                                                            \n",
       "WMORTPCG3HTIPEFSGUFY            8         21.299937    151.092519         1   \n",
       "GBLPEA16C3KGBO57KEFO           26         56.609623   1553.276979         0   \n",
       "IDCQS0CO5P29AMKY3LO1           66         25.167690   1684.262416         1   \n",
       "1IY29SDITYU6IFZ4KJB0           31         55.560968   1829.874462         0   \n",
       "T5XMW5B0YPCONH30WJD2           21         20.070002    489.818170         0   \n",
       "\n",
       "                      Aged_Yes  Married_Yes  TotalDependents_Yes  \\\n",
       "ID                                                                 \n",
       "WMORTPCG3HTIPEFSGUFY         0            0                    0   \n",
       "GBLPEA16C3KGBO57KEFO         0            0                    0   \n",
       "IDCQS0CO5P29AMKY3LO1         0            0                    0   \n",
       "1IY29SDITYU6IFZ4KJB0         1            0                    0   \n",
       "T5XMW5B0YPCONH30WJD2         0            1                    1   \n",
       "\n",
       "                      MobileService_Yes  CyberProtection_Yes  \\\n",
       "ID                                                             \n",
       "WMORTPCG3HTIPEFSGUFY                  1                    0   \n",
       "GBLPEA16C3KGBO57KEFO                  1                    0   \n",
       "IDCQS0CO5P29AMKY3LO1                  1                    0   \n",
       "1IY29SDITYU6IFZ4KJB0                  1                    0   \n",
       "T5XMW5B0YPCONH30WJD2                  1                    0   \n",
       "\n",
       "                      HardwareSupport_Yes  TechnicalAssistance_Yes  \\\n",
       "ID                                                                   \n",
       "WMORTPCG3HTIPEFSGUFY                    0                        0   \n",
       "GBLPEA16C3KGBO57KEFO                    1                        0   \n",
       "IDCQS0CO5P29AMKY3LO1                    0                        0   \n",
       "1IY29SDITYU6IFZ4KJB0                    0                        1   \n",
       "T5XMW5B0YPCONH30WJD2                    0                        0   \n",
       "\n",
       "                      FilmSubscription_Yes  4GService_Satellite Broadband  \\\n",
       "ID                                                                          \n",
       "WMORTPCG3HTIPEFSGUFY                     1                              0   \n",
       "GBLPEA16C3KGBO57KEFO                     1                              1   \n",
       "IDCQS0CO5P29AMKY3LO1                     1                              1   \n",
       "1IY29SDITYU6IFZ4KJB0                     1                              1   \n",
       "T5XMW5B0YPCONH30WJD2                     0                              1   \n",
       "\n",
       "                      4GService_Wifi Broadband  SettlementProcess_Card  \\\n",
       "ID                                                                       \n",
       "WMORTPCG3HTIPEFSGUFY                         1                       0   \n",
       "GBLPEA16C3KGBO57KEFO                         0                       0   \n",
       "IDCQS0CO5P29AMKY3LO1                         0                       1   \n",
       "1IY29SDITYU6IFZ4KJB0                         0                       0   \n",
       "T5XMW5B0YPCONH30WJD2                         0                       0   \n",
       "\n",
       "                      SettlementProcess_Check  SettlementProcess_Electronic  \n",
       "ID                                                                           \n",
       "WMORTPCG3HTIPEFSGUFY                        1                             0  \n",
       "GBLPEA16C3KGBO57KEFO                        1                             0  \n",
       "IDCQS0CO5P29AMKY3LO1                        0                             0  \n",
       "1IY29SDITYU6IFZ4KJB0                        0                             0  \n",
       "T5XMW5B0YPCONH30WJD2                        0                             0  "
      ]
     },
     "execution_count": 273,
     "metadata": {},
     "output_type": "execute_result"
    }
   ],
   "source": [
    "df_t.head()"
   ]
  },
  {
   "cell_type": "code",
   "execution_count": 274,
   "metadata": {},
   "outputs": [],
   "source": [
    "scaler = preprocessing.StandardScaler()"
   ]
  },
  {
   "cell_type": "code",
   "execution_count": 275,
   "metadata": {},
   "outputs": [
    {
     "data": {
      "text/plain": [
       "StandardScaler(copy=True, with_mean=True, with_std=True)"
      ]
     },
     "execution_count": 275,
     "metadata": {},
     "output_type": "execute_result"
    }
   ],
   "source": [
    "scaler.fit(df_t)"
   ]
  },
  {
   "cell_type": "code",
   "execution_count": 276,
   "metadata": {},
   "outputs": [],
   "source": [
    "X_test_scaler = scaler.transform(df_t)"
   ]
  },
  {
   "cell_type": "code",
   "execution_count": 277,
   "metadata": {},
   "outputs": [
    {
     "data": {
      "text/plain": [
       "array([[-0.94147547, -1.45449257, -0.90648634, ..., -0.54401827,\n",
       "         1.85309532, -0.69809868],\n",
       "       [-0.21408894, -0.26478559, -0.29117446, ..., -0.54401827,\n",
       "         1.85309532, -0.69809868],\n",
       "       [ 1.40232556, -1.32417442, -0.23369493, ...,  1.83817355,\n",
       "        -0.53963765, -0.69809868],\n",
       "       ...,\n",
       "       [-0.37573039,  1.29592594,  0.0772468 , ..., -0.54401827,\n",
       "        -0.53963765,  1.43246223],\n",
       "       [-1.10311692, -0.42472032, -0.85727714, ..., -0.54401827,\n",
       "        -0.53963765,  1.43246223],\n",
       "       [ 0.19001468,  0.98379849,  0.61770019, ..., -0.54401827,\n",
       "        -0.53963765,  1.43246223]])"
      ]
     },
     "execution_count": 277,
     "metadata": {},
     "output_type": "execute_result"
    }
   ],
   "source": [
    "X_test_scaler"
   ]
  },
  {
   "cell_type": "code",
   "execution_count": 278,
   "metadata": {},
   "outputs": [
    {
     "data": {
      "text/plain": [
       "(705, 17)"
      ]
     },
     "execution_count": 278,
     "metadata": {},
     "output_type": "execute_result"
    }
   ],
   "source": [
    "X_test_scaler.shape"
   ]
  },
  {
   "cell_type": "code",
   "execution_count": 279,
   "metadata": {},
   "outputs": [],
   "source": [
    "X_test_final =pd.DataFrame(X_test_scaler,columns = ['ServiceSpan', 'QuarterlyPayment', 'GrandPayment', 'sex_Male',\n",
    "       'Aged_Yes', 'Married_Yes', 'TotalDependents_Yes', 'MobileService_Yes',\n",
    "       'CyberProtection_Yes', 'HardwareSupport_Yes', 'TechnicalAssistance_Yes',\n",
    "       'FilmSubscription_Yes', '4GService_Satellite Broadband',\n",
    "       '4GService_Wifi Broadband', 'SettlementProcess_Card',\n",
    "       'SettlementProcess_Check', 'SettlementProcess_Electronic'])"
   ]
  },
  {
   "cell_type": "code",
   "execution_count": 280,
   "metadata": {},
   "outputs": [
    {
     "data": {
      "text/html": [
       "<div>\n",
       "<style scoped>\n",
       "    .dataframe tbody tr th:only-of-type {\n",
       "        vertical-align: middle;\n",
       "    }\n",
       "\n",
       "    .dataframe tbody tr th {\n",
       "        vertical-align: top;\n",
       "    }\n",
       "\n",
       "    .dataframe thead th {\n",
       "        text-align: right;\n",
       "    }\n",
       "</style>\n",
       "<table border=\"1\" class=\"dataframe\">\n",
       "  <thead>\n",
       "    <tr style=\"text-align: right;\">\n",
       "      <th></th>\n",
       "      <th>ServiceSpan</th>\n",
       "      <th>QuarterlyPayment</th>\n",
       "      <th>GrandPayment</th>\n",
       "      <th>sex_Male</th>\n",
       "      <th>Aged_Yes</th>\n",
       "      <th>Married_Yes</th>\n",
       "      <th>TotalDependents_Yes</th>\n",
       "      <th>MobileService_Yes</th>\n",
       "      <th>CyberProtection_Yes</th>\n",
       "      <th>HardwareSupport_Yes</th>\n",
       "      <th>TechnicalAssistance_Yes</th>\n",
       "      <th>FilmSubscription_Yes</th>\n",
       "      <th>4GService_Satellite Broadband</th>\n",
       "      <th>4GService_Wifi Broadband</th>\n",
       "      <th>SettlementProcess_Card</th>\n",
       "      <th>SettlementProcess_Check</th>\n",
       "      <th>SettlementProcess_Electronic</th>\n",
       "    </tr>\n",
       "  </thead>\n",
       "  <tbody>\n",
       "    <tr>\n",
       "      <th>0</th>\n",
       "      <td>-0.941475</td>\n",
       "      <td>-1.454493</td>\n",
       "      <td>-0.906486</td>\n",
       "      <td>1.030244</td>\n",
       "      <td>-0.436896</td>\n",
       "      <td>-0.956954</td>\n",
       "      <td>-0.638111</td>\n",
       "      <td>0.276289</td>\n",
       "      <td>-0.60521</td>\n",
       "      <td>-0.785476</td>\n",
       "      <td>-0.660186</td>\n",
       "      <td>1.155178</td>\n",
       "      <td>-0.727519</td>\n",
       "      <td>1.155178</td>\n",
       "      <td>-0.544018</td>\n",
       "      <td>1.853095</td>\n",
       "      <td>-0.698099</td>\n",
       "    </tr>\n",
       "    <tr>\n",
       "      <th>1</th>\n",
       "      <td>-0.214089</td>\n",
       "      <td>-0.264786</td>\n",
       "      <td>-0.291174</td>\n",
       "      <td>-0.970643</td>\n",
       "      <td>-0.436896</td>\n",
       "      <td>-0.956954</td>\n",
       "      <td>-0.638111</td>\n",
       "      <td>0.276289</td>\n",
       "      <td>-0.60521</td>\n",
       "      <td>1.273113</td>\n",
       "      <td>-0.660186</td>\n",
       "      <td>1.155178</td>\n",
       "      <td>1.374534</td>\n",
       "      <td>-0.865667</td>\n",
       "      <td>-0.544018</td>\n",
       "      <td>1.853095</td>\n",
       "      <td>-0.698099</td>\n",
       "    </tr>\n",
       "    <tr>\n",
       "      <th>2</th>\n",
       "      <td>1.402326</td>\n",
       "      <td>-1.324174</td>\n",
       "      <td>-0.233695</td>\n",
       "      <td>1.030244</td>\n",
       "      <td>-0.436896</td>\n",
       "      <td>-0.956954</td>\n",
       "      <td>-0.638111</td>\n",
       "      <td>0.276289</td>\n",
       "      <td>-0.60521</td>\n",
       "      <td>-0.785476</td>\n",
       "      <td>-0.660186</td>\n",
       "      <td>1.155178</td>\n",
       "      <td>1.374534</td>\n",
       "      <td>-0.865667</td>\n",
       "      <td>1.838174</td>\n",
       "      <td>-0.539638</td>\n",
       "      <td>-0.698099</td>\n",
       "    </tr>\n",
       "    <tr>\n",
       "      <th>3</th>\n",
       "      <td>-0.012037</td>\n",
       "      <td>-0.300118</td>\n",
       "      <td>-0.169797</td>\n",
       "      <td>-0.970643</td>\n",
       "      <td>2.288873</td>\n",
       "      <td>-0.956954</td>\n",
       "      <td>-0.638111</td>\n",
       "      <td>0.276289</td>\n",
       "      <td>-0.60521</td>\n",
       "      <td>-0.785476</td>\n",
       "      <td>1.514725</td>\n",
       "      <td>1.155178</td>\n",
       "      <td>1.374534</td>\n",
       "      <td>-0.865667</td>\n",
       "      <td>-0.544018</td>\n",
       "      <td>-0.539638</td>\n",
       "      <td>-0.698099</td>\n",
       "    </tr>\n",
       "    <tr>\n",
       "      <th>4</th>\n",
       "      <td>-0.416141</td>\n",
       "      <td>-1.495933</td>\n",
       "      <td>-0.757845</td>\n",
       "      <td>-0.970643</td>\n",
       "      <td>-0.436896</td>\n",
       "      <td>1.044982</td>\n",
       "      <td>1.567126</td>\n",
       "      <td>0.276289</td>\n",
       "      <td>-0.60521</td>\n",
       "      <td>-0.785476</td>\n",
       "      <td>-0.660186</td>\n",
       "      <td>-0.865667</td>\n",
       "      <td>1.374534</td>\n",
       "      <td>-0.865667</td>\n",
       "      <td>-0.544018</td>\n",
       "      <td>-0.539638</td>\n",
       "      <td>-0.698099</td>\n",
       "    </tr>\n",
       "  </tbody>\n",
       "</table>\n",
       "</div>"
      ],
      "text/plain": [
       "   ServiceSpan  QuarterlyPayment  GrandPayment  sex_Male  Aged_Yes  \\\n",
       "0    -0.941475         -1.454493     -0.906486  1.030244 -0.436896   \n",
       "1    -0.214089         -0.264786     -0.291174 -0.970643 -0.436896   \n",
       "2     1.402326         -1.324174     -0.233695  1.030244 -0.436896   \n",
       "3    -0.012037         -0.300118     -0.169797 -0.970643  2.288873   \n",
       "4    -0.416141         -1.495933     -0.757845 -0.970643 -0.436896   \n",
       "\n",
       "   Married_Yes  TotalDependents_Yes  MobileService_Yes  CyberProtection_Yes  \\\n",
       "0    -0.956954            -0.638111           0.276289             -0.60521   \n",
       "1    -0.956954            -0.638111           0.276289             -0.60521   \n",
       "2    -0.956954            -0.638111           0.276289             -0.60521   \n",
       "3    -0.956954            -0.638111           0.276289             -0.60521   \n",
       "4     1.044982             1.567126           0.276289             -0.60521   \n",
       "\n",
       "   HardwareSupport_Yes  TechnicalAssistance_Yes  FilmSubscription_Yes  \\\n",
       "0            -0.785476                -0.660186              1.155178   \n",
       "1             1.273113                -0.660186              1.155178   \n",
       "2            -0.785476                -0.660186              1.155178   \n",
       "3            -0.785476                 1.514725              1.155178   \n",
       "4            -0.785476                -0.660186             -0.865667   \n",
       "\n",
       "   4GService_Satellite Broadband  4GService_Wifi Broadband  \\\n",
       "0                      -0.727519                  1.155178   \n",
       "1                       1.374534                 -0.865667   \n",
       "2                       1.374534                 -0.865667   \n",
       "3                       1.374534                 -0.865667   \n",
       "4                       1.374534                 -0.865667   \n",
       "\n",
       "   SettlementProcess_Card  SettlementProcess_Check  \\\n",
       "0               -0.544018                 1.853095   \n",
       "1               -0.544018                 1.853095   \n",
       "2                1.838174                -0.539638   \n",
       "3               -0.544018                -0.539638   \n",
       "4               -0.544018                -0.539638   \n",
       "\n",
       "   SettlementProcess_Electronic  \n",
       "0                     -0.698099  \n",
       "1                     -0.698099  \n",
       "2                     -0.698099  \n",
       "3                     -0.698099  \n",
       "4                     -0.698099  "
      ]
     },
     "execution_count": 280,
     "metadata": {},
     "output_type": "execute_result"
    }
   ],
   "source": [
    "X_test_final.head()"
   ]
  },
  {
   "cell_type": "code",
   "execution_count": 283,
   "metadata": {},
   "outputs": [],
   "source": [
    "predicted = classifier.predict(X_test_final)"
   ]
  },
  {
   "cell_type": "code",
   "execution_count": 301,
   "metadata": {},
   "outputs": [],
   "source": [
    "predicted_d = pd.DataFrame(predicted,columns = [\"CustomerAttrition\"])"
   ]
  },
  {
   "cell_type": "code",
   "execution_count": 302,
   "metadata": {},
   "outputs": [],
   "source": [
    "final = pd.concat([df_test[\"ID\"],predicted_d],axis = \"columns\" )"
   ]
  },
  {
   "cell_type": "code",
   "execution_count": 303,
   "metadata": {},
   "outputs": [
    {
     "data": {
      "text/html": [
       "<div>\n",
       "<style scoped>\n",
       "    .dataframe tbody tr th:only-of-type {\n",
       "        vertical-align: middle;\n",
       "    }\n",
       "\n",
       "    .dataframe tbody tr th {\n",
       "        vertical-align: top;\n",
       "    }\n",
       "\n",
       "    .dataframe thead th {\n",
       "        text-align: right;\n",
       "    }\n",
       "</style>\n",
       "<table border=\"1\" class=\"dataframe\">\n",
       "  <thead>\n",
       "    <tr style=\"text-align: right;\">\n",
       "      <th></th>\n",
       "      <th>ID</th>\n",
       "      <th>CustomerAttrition</th>\n",
       "    </tr>\n",
       "  </thead>\n",
       "  <tbody>\n",
       "    <tr>\n",
       "      <th>0</th>\n",
       "      <td>WMORTPCG3HTIPEFSGUFY</td>\n",
       "      <td>No</td>\n",
       "    </tr>\n",
       "    <tr>\n",
       "      <th>1</th>\n",
       "      <td>GBLPEA16C3KGBO57KEFO</td>\n",
       "      <td>No</td>\n",
       "    </tr>\n",
       "    <tr>\n",
       "      <th>2</th>\n",
       "      <td>IDCQS0CO5P29AMKY3LO1</td>\n",
       "      <td>No</td>\n",
       "    </tr>\n",
       "    <tr>\n",
       "      <th>3</th>\n",
       "      <td>1IY29SDITYU6IFZ4KJB0</td>\n",
       "      <td>No</td>\n",
       "    </tr>\n",
       "    <tr>\n",
       "      <th>4</th>\n",
       "      <td>T5XMW5B0YPCONH30WJD2</td>\n",
       "      <td>No</td>\n",
       "    </tr>\n",
       "  </tbody>\n",
       "</table>\n",
       "</div>"
      ],
      "text/plain": [
       "                     ID CustomerAttrition\n",
       "0  WMORTPCG3HTIPEFSGUFY                No\n",
       "1  GBLPEA16C3KGBO57KEFO                No\n",
       "2  IDCQS0CO5P29AMKY3LO1                No\n",
       "3  1IY29SDITYU6IFZ4KJB0                No\n",
       "4  T5XMW5B0YPCONH30WJD2                No"
      ]
     },
     "execution_count": 303,
     "metadata": {},
     "output_type": "execute_result"
    }
   ],
   "source": [
    "final.head()"
   ]
  },
  {
   "cell_type": "code",
   "execution_count": 308,
   "metadata": {},
   "outputs": [],
   "source": [
    "final.to_csv(\"final_last_last.csv\",index = False)"
   ]
  },
  {
   "cell_type": "code",
   "execution_count": null,
   "metadata": {},
   "outputs": [],
   "source": []
  }
 ],
 "metadata": {
  "kernelspec": {
   "display_name": "Python 3",
   "language": "python",
   "name": "python3"
  },
  "language_info": {
   "codemirror_mode": {
    "name": "ipython",
    "version": 3
   },
   "file_extension": ".py",
   "mimetype": "text/x-python",
   "name": "python",
   "nbconvert_exporter": "python",
   "pygments_lexer": "ipython3",
   "version": "3.7.6"
  }
 },
 "nbformat": 4,
 "nbformat_minor": 4
}
